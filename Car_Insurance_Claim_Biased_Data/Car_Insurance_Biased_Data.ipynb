{
 "cells": [
  {
   "cell_type": "markdown",
   "id": "ed6bee92-f176-458a-a748-e3499de153b2",
   "metadata": {},
   "source": [
    "# Biased Data"
   ]
  },
  {
   "cell_type": "markdown",
   "id": "50560476-b16c-44f2-8eb9-fe472c1d85b6",
   "metadata": {},
   "source": [
    "While working on this particular dataset, I came across a situation of Data Biaseness.\n",
    "What is a Biased Data? <br>\n",
    "--> Basically Statistical bias is a term used to describe statistics that don't provide an accurate representation of the population. Some data is flawed because the sample of people it surveys doesn't accurately represent the population.<br>\n",
    "For example in this case, the target variable is Binary(0,1); But in the dataset of 58592 entries, <br>\n",
    "0 --> 54844 <br>\n",
    "1 --> 3748 <br>\n",
    "This shows that data is biased towards zeros<br>\n",
    "\n",
    "So what if the data is biased?<br>\n",
    "--> If the data is biased the ML algorithm predictions will be dominated by the majority class objects and consequently the minority class is neglected.<br>\n",
    "In this dataset the majority class is zero, so no matter which algorithm you use-It is going to predict zero for any record.<br>\n",
    "\n",
    "But the key thing in such datasets is that the minority class is the most important one from the business perspective.<br>\n",
    "\n",
    "So how to handle this situation?<br>\n",
    "--> There are multiple methods to tackle data biaseness\n",
    "Some of them are<br>\n",
    "    1. Undersampling the majority class<br>\n",
    "    2. Oversampling the minority class<br>\n",
    "    3. SMOTE - Synthetic Minority Oversampling Technique<br>\n",
    "    4. Use of ensemble for undersampling<br>\n",
    "    \n",
    "I tried to implement all these methods below."
   ]
  },
  {
   "cell_type": "markdown",
   "id": "da517cc5-fc43-4188-b651-41fe4007f158",
   "metadata": {},
   "source": [
    "## Importing Dependencies"
   ]
  },
  {
   "cell_type": "code",
   "execution_count": 30,
   "id": "71c10d0f-fe12-4ec4-8b55-13b175945b9d",
   "metadata": {},
   "outputs": [],
   "source": [
    "import pandas as pd\n",
    "import numpy as np\n",
    "import matplotlib.pyplot as plt\n",
    "import seaborn as sns\n",
    "%matplotlib inline"
   ]
  },
  {
   "cell_type": "code",
   "execution_count": 31,
   "id": "d3626dae-d39e-4797-b190-ea22bbd21d19",
   "metadata": {},
   "outputs": [],
   "source": [
    "df = pd.read_csv('train.csv')"
   ]
  },
  {
   "cell_type": "markdown",
   "id": "21a020e7-2364-472a-8875-75a9d5142df5",
   "metadata": {},
   "source": [
    "## Quick EDA"
   ]
  },
  {
   "cell_type": "code",
   "execution_count": 32,
   "id": "a0d8144d-736c-49d0-9c14-914a84525171",
   "metadata": {},
   "outputs": [
    {
     "data": {
      "text/html": [
       "<div>\n",
       "<style scoped>\n",
       "    .dataframe tbody tr th:only-of-type {\n",
       "        vertical-align: middle;\n",
       "    }\n",
       "\n",
       "    .dataframe tbody tr th {\n",
       "        vertical-align: top;\n",
       "    }\n",
       "\n",
       "    .dataframe thead th {\n",
       "        text-align: right;\n",
       "    }\n",
       "</style>\n",
       "<table border=\"1\" class=\"dataframe\">\n",
       "  <thead>\n",
       "    <tr style=\"text-align: right;\">\n",
       "      <th></th>\n",
       "      <th>policy_id</th>\n",
       "      <th>policy_tenure</th>\n",
       "      <th>age_of_car</th>\n",
       "      <th>age_of_policyholder</th>\n",
       "      <th>area_cluster</th>\n",
       "      <th>population_density</th>\n",
       "      <th>make</th>\n",
       "      <th>segment</th>\n",
       "      <th>model</th>\n",
       "      <th>fuel_type</th>\n",
       "      <th>...</th>\n",
       "      <th>is_brake_assist</th>\n",
       "      <th>is_power_door_locks</th>\n",
       "      <th>is_central_locking</th>\n",
       "      <th>is_power_steering</th>\n",
       "      <th>is_driver_seat_height_adjustable</th>\n",
       "      <th>is_day_night_rear_view_mirror</th>\n",
       "      <th>is_ecw</th>\n",
       "      <th>is_speed_alert</th>\n",
       "      <th>ncap_rating</th>\n",
       "      <th>is_claim</th>\n",
       "    </tr>\n",
       "  </thead>\n",
       "  <tbody>\n",
       "    <tr>\n",
       "      <th>0</th>\n",
       "      <td>ID00001</td>\n",
       "      <td>0.515874</td>\n",
       "      <td>0.05</td>\n",
       "      <td>0.644231</td>\n",
       "      <td>C1</td>\n",
       "      <td>4990</td>\n",
       "      <td>1</td>\n",
       "      <td>A</td>\n",
       "      <td>M1</td>\n",
       "      <td>CNG</td>\n",
       "      <td>...</td>\n",
       "      <td>No</td>\n",
       "      <td>No</td>\n",
       "      <td>No</td>\n",
       "      <td>Yes</td>\n",
       "      <td>No</td>\n",
       "      <td>No</td>\n",
       "      <td>No</td>\n",
       "      <td>Yes</td>\n",
       "      <td>0</td>\n",
       "      <td>0</td>\n",
       "    </tr>\n",
       "    <tr>\n",
       "      <th>1</th>\n",
       "      <td>ID00002</td>\n",
       "      <td>0.672619</td>\n",
       "      <td>0.02</td>\n",
       "      <td>0.375000</td>\n",
       "      <td>C2</td>\n",
       "      <td>27003</td>\n",
       "      <td>1</td>\n",
       "      <td>A</td>\n",
       "      <td>M1</td>\n",
       "      <td>CNG</td>\n",
       "      <td>...</td>\n",
       "      <td>No</td>\n",
       "      <td>No</td>\n",
       "      <td>No</td>\n",
       "      <td>Yes</td>\n",
       "      <td>No</td>\n",
       "      <td>No</td>\n",
       "      <td>No</td>\n",
       "      <td>Yes</td>\n",
       "      <td>0</td>\n",
       "      <td>0</td>\n",
       "    </tr>\n",
       "    <tr>\n",
       "      <th>2</th>\n",
       "      <td>ID00003</td>\n",
       "      <td>0.841110</td>\n",
       "      <td>0.02</td>\n",
       "      <td>0.384615</td>\n",
       "      <td>C3</td>\n",
       "      <td>4076</td>\n",
       "      <td>1</td>\n",
       "      <td>A</td>\n",
       "      <td>M1</td>\n",
       "      <td>CNG</td>\n",
       "      <td>...</td>\n",
       "      <td>No</td>\n",
       "      <td>No</td>\n",
       "      <td>No</td>\n",
       "      <td>Yes</td>\n",
       "      <td>No</td>\n",
       "      <td>No</td>\n",
       "      <td>No</td>\n",
       "      <td>Yes</td>\n",
       "      <td>0</td>\n",
       "      <td>0</td>\n",
       "    </tr>\n",
       "    <tr>\n",
       "      <th>3</th>\n",
       "      <td>ID00004</td>\n",
       "      <td>0.900277</td>\n",
       "      <td>0.11</td>\n",
       "      <td>0.432692</td>\n",
       "      <td>C4</td>\n",
       "      <td>21622</td>\n",
       "      <td>1</td>\n",
       "      <td>C1</td>\n",
       "      <td>M2</td>\n",
       "      <td>Petrol</td>\n",
       "      <td>...</td>\n",
       "      <td>Yes</td>\n",
       "      <td>Yes</td>\n",
       "      <td>Yes</td>\n",
       "      <td>Yes</td>\n",
       "      <td>Yes</td>\n",
       "      <td>Yes</td>\n",
       "      <td>Yes</td>\n",
       "      <td>Yes</td>\n",
       "      <td>2</td>\n",
       "      <td>0</td>\n",
       "    </tr>\n",
       "    <tr>\n",
       "      <th>4</th>\n",
       "      <td>ID00005</td>\n",
       "      <td>0.596403</td>\n",
       "      <td>0.11</td>\n",
       "      <td>0.634615</td>\n",
       "      <td>C5</td>\n",
       "      <td>34738</td>\n",
       "      <td>2</td>\n",
       "      <td>A</td>\n",
       "      <td>M3</td>\n",
       "      <td>Petrol</td>\n",
       "      <td>...</td>\n",
       "      <td>No</td>\n",
       "      <td>Yes</td>\n",
       "      <td>Yes</td>\n",
       "      <td>Yes</td>\n",
       "      <td>No</td>\n",
       "      <td>Yes</td>\n",
       "      <td>Yes</td>\n",
       "      <td>Yes</td>\n",
       "      <td>2</td>\n",
       "      <td>0</td>\n",
       "    </tr>\n",
       "  </tbody>\n",
       "</table>\n",
       "<p>5 rows × 44 columns</p>\n",
       "</div>"
      ],
      "text/plain": [
       "  policy_id  policy_tenure  age_of_car  age_of_policyholder area_cluster  \\\n",
       "0   ID00001       0.515874        0.05             0.644231           C1   \n",
       "1   ID00002       0.672619        0.02             0.375000           C2   \n",
       "2   ID00003       0.841110        0.02             0.384615           C3   \n",
       "3   ID00004       0.900277        0.11             0.432692           C4   \n",
       "4   ID00005       0.596403        0.11             0.634615           C5   \n",
       "\n",
       "   population_density  make segment model fuel_type  ... is_brake_assist  \\\n",
       "0                4990     1       A    M1       CNG  ...              No   \n",
       "1               27003     1       A    M1       CNG  ...              No   \n",
       "2                4076     1       A    M1       CNG  ...              No   \n",
       "3               21622     1      C1    M2    Petrol  ...             Yes   \n",
       "4               34738     2       A    M3    Petrol  ...              No   \n",
       "\n",
       "  is_power_door_locks is_central_locking  is_power_steering  \\\n",
       "0                  No                 No                Yes   \n",
       "1                  No                 No                Yes   \n",
       "2                  No                 No                Yes   \n",
       "3                 Yes                Yes                Yes   \n",
       "4                 Yes                Yes                Yes   \n",
       "\n",
       "  is_driver_seat_height_adjustable is_day_night_rear_view_mirror is_ecw  \\\n",
       "0                               No                            No     No   \n",
       "1                               No                            No     No   \n",
       "2                               No                            No     No   \n",
       "3                              Yes                           Yes    Yes   \n",
       "4                               No                           Yes    Yes   \n",
       "\n",
       "  is_speed_alert ncap_rating is_claim  \n",
       "0            Yes           0        0  \n",
       "1            Yes           0        0  \n",
       "2            Yes           0        0  \n",
       "3            Yes           2        0  \n",
       "4            Yes           2        0  \n",
       "\n",
       "[5 rows x 44 columns]"
      ]
     },
     "execution_count": 32,
     "metadata": {},
     "output_type": "execute_result"
    }
   ],
   "source": [
    "df.head()"
   ]
  },
  {
   "cell_type": "code",
   "execution_count": 33,
   "id": "d9abf017-e4af-4265-a386-725040537da4",
   "metadata": {},
   "outputs": [
    {
     "name": "stdout",
     "output_type": "stream",
     "text": [
      "<class 'pandas.core.frame.DataFrame'>\n",
      "RangeIndex: 58592 entries, 0 to 58591\n",
      "Data columns (total 44 columns):\n",
      " #   Column                            Non-Null Count  Dtype  \n",
      "---  ------                            --------------  -----  \n",
      " 0   policy_id                         58592 non-null  object \n",
      " 1   policy_tenure                     58592 non-null  float64\n",
      " 2   age_of_car                        58592 non-null  float64\n",
      " 3   age_of_policyholder               58592 non-null  float64\n",
      " 4   area_cluster                      58592 non-null  object \n",
      " 5   population_density                58592 non-null  int64  \n",
      " 6   make                              58592 non-null  int64  \n",
      " 7   segment                           58592 non-null  object \n",
      " 8   model                             58592 non-null  object \n",
      " 9   fuel_type                         58592 non-null  object \n",
      " 10  max_torque                        58592 non-null  object \n",
      " 11  max_power                         58592 non-null  object \n",
      " 12  engine_type                       58592 non-null  object \n",
      " 13  airbags                           58592 non-null  int64  \n",
      " 14  is_esc                            58592 non-null  object \n",
      " 15  is_adjustable_steering            58592 non-null  object \n",
      " 16  is_tpms                           58592 non-null  object \n",
      " 17  is_parking_sensors                58592 non-null  object \n",
      " 18  is_parking_camera                 58592 non-null  object \n",
      " 19  rear_brakes_type                  58592 non-null  object \n",
      " 20  displacement                      58592 non-null  int64  \n",
      " 21  cylinder                          58592 non-null  int64  \n",
      " 22  transmission_type                 58592 non-null  object \n",
      " 23  gear_box                          58592 non-null  int64  \n",
      " 24  steering_type                     58592 non-null  object \n",
      " 25  turning_radius                    58592 non-null  float64\n",
      " 26  length                            58592 non-null  int64  \n",
      " 27  width                             58592 non-null  int64  \n",
      " 28  height                            58592 non-null  int64  \n",
      " 29  gross_weight                      58592 non-null  int64  \n",
      " 30  is_front_fog_lights               58592 non-null  object \n",
      " 31  is_rear_window_wiper              58592 non-null  object \n",
      " 32  is_rear_window_washer             58592 non-null  object \n",
      " 33  is_rear_window_defogger           58592 non-null  object \n",
      " 34  is_brake_assist                   58592 non-null  object \n",
      " 35  is_power_door_locks               58592 non-null  object \n",
      " 36  is_central_locking                58592 non-null  object \n",
      " 37  is_power_steering                 58592 non-null  object \n",
      " 38  is_driver_seat_height_adjustable  58592 non-null  object \n",
      " 39  is_day_night_rear_view_mirror     58592 non-null  object \n",
      " 40  is_ecw                            58592 non-null  object \n",
      " 41  is_speed_alert                    58592 non-null  object \n",
      " 42  ncap_rating                       58592 non-null  int64  \n",
      " 43  is_claim                          58592 non-null  int64  \n",
      "dtypes: float64(4), int64(12), object(28)\n",
      "memory usage: 19.7+ MB\n"
     ]
    }
   ],
   "source": [
    "df.info()"
   ]
  },
  {
   "cell_type": "code",
   "execution_count": 34,
   "id": "27fb40a7-2205-4122-9670-af189171bc57",
   "metadata": {},
   "outputs": [
    {
     "data": {
      "text/plain": [
       "policy_id                           0\n",
       "policy_tenure                       0\n",
       "age_of_car                          0\n",
       "age_of_policyholder                 0\n",
       "area_cluster                        0\n",
       "population_density                  0\n",
       "make                                0\n",
       "segment                             0\n",
       "model                               0\n",
       "fuel_type                           0\n",
       "max_torque                          0\n",
       "max_power                           0\n",
       "engine_type                         0\n",
       "airbags                             0\n",
       "is_esc                              0\n",
       "is_adjustable_steering              0\n",
       "is_tpms                             0\n",
       "is_parking_sensors                  0\n",
       "is_parking_camera                   0\n",
       "rear_brakes_type                    0\n",
       "displacement                        0\n",
       "cylinder                            0\n",
       "transmission_type                   0\n",
       "gear_box                            0\n",
       "steering_type                       0\n",
       "turning_radius                      0\n",
       "length                              0\n",
       "width                               0\n",
       "height                              0\n",
       "gross_weight                        0\n",
       "is_front_fog_lights                 0\n",
       "is_rear_window_wiper                0\n",
       "is_rear_window_washer               0\n",
       "is_rear_window_defogger             0\n",
       "is_brake_assist                     0\n",
       "is_power_door_locks                 0\n",
       "is_central_locking                  0\n",
       "is_power_steering                   0\n",
       "is_driver_seat_height_adjustable    0\n",
       "is_day_night_rear_view_mirror       0\n",
       "is_ecw                              0\n",
       "is_speed_alert                      0\n",
       "ncap_rating                         0\n",
       "is_claim                            0\n",
       "dtype: int64"
      ]
     },
     "execution_count": 34,
     "metadata": {},
     "output_type": "execute_result"
    }
   ],
   "source": [
    "#Checking for Null values\n",
    "df.isnull().sum()"
   ]
  },
  {
   "cell_type": "markdown",
   "id": "a7cdf4a9-4402-4691-a559-ca6a37b01069",
   "metadata": {},
   "source": [
    "### Checking for Correlated features"
   ]
  },
  {
   "cell_type": "code",
   "execution_count": 7,
   "id": "a86ff767-5809-440a-bc81-72e5dd809bcd",
   "metadata": {},
   "outputs": [
    {
     "data": {
      "image/png": "[encoded data removed]",
      "text/plain": [
       "<Figure size 2160x2160 with 2 Axes>"
      ]
     },
     "metadata": {
      "needs_background": "light"
     },
     "output_type": "display_data"
    }
   ],
   "source": [
    "corrmat = df.corr()\n",
    "plt.figure(figsize=(30,30))\n",
    "sns.heatmap(corrmat, vmax=.8, square=True,annot=True);"
   ]
  },
  {
   "cell_type": "markdown",
   "id": "45486560-d020-4b20-a606-8170618a5319",
   "metadata": {},
   "source": [
    "#### Correlated Features"
   ]
  },
  {
   "cell_type": "code",
   "execution_count": 8,
   "id": "63ef381c-2307-42c8-ad15-4db637f72d97",
   "metadata": {},
   "outputs": [],
   "source": [
    "# displacement - make  0.75\n",
    "# displacement - cylinder 0.87\n",
    "# gear_box - airbags 0.86\n",
    "# turningradius - make 0.75\n",
    "# turning_radius - airbags 0.81\n",
    "# turning_radius - displacement 0.88\n",
    "# turning_radius - gear_box 0.86\n",
    "# length - airbags 0.81\n",
    "# length - displacement 0.96\n",
    "# length - cylinder 0.81\n",
    "# length - gear_box 0.81\n",
    "# length - turning_radius 0.94\n",
    "# width - displacement 0.90\n",
    "# width - cylinder 0.86\n",
    "# width - turning_radius 0.83\n",
    "# width - length 0.92\n",
    "# gross_weight - airbags 0.83\n",
    "# gross_weight - displacement 0.78\n",
    "# gross_weight - gear_box 0.89\n",
    "# gross_weight - turning_radius 0.82\n",
    "# gross_weight - length 0.86\n",
    "# ncap_rating - make 0.79\n",
    "# ncap_rating - displacement 0.85\n",
    "# ncap_rating - turning_radius 0.78\n",
    "# ncap_rating - length 0.77\n",
    "# ncap_rating - width 0.77"
   ]
  },
  {
   "cell_type": "markdown",
   "id": "2637339a-d1f0-4ed8-b946-3ec8a58b98cf",
   "metadata": {},
   "source": [
    "#### Conclusions"
   ]
  },
  {
   "cell_type": "markdown",
   "id": "28153384-7622-4e57-bd93-212cff34766a",
   "metadata": {},
   "source": [
    "- Columns to keep <br>\n",
    "displacement,\n",
    "airbags\n",
    "\n",
    "- Columns to drop <br>\n",
    "make,\n",
    "cylinder,\n",
    "gear_box,\n",
    "turning_radius,\n",
    "length,\n",
    "width,\n",
    "gross_weight,\n",
    "ncap_rating\n",
    "\n",
    "\n"
   ]
  },
  {
   "cell_type": "markdown",
   "id": "37adee28-97e1-4223-96c4-8916f9381d79",
   "metadata": {},
   "source": [
    "### Pandas Profiling"
   ]
  },
  {
   "cell_type": "markdown",
   "id": "5d80dad4-35d7-4d51-8686-9e55319da682",
   "metadata": {},
   "source": [
    "- Commented due to github issue"
   ]
  },
  {
   "cell_type": "code",
   "execution_count": 1,
   "id": "9a7dd1b1-2780-4e79-ba2f-e7223e7e9bbe",
   "metadata": {
    "tags": []
   },
   "outputs": [],
   "source": [
    "# from pandas_profiling import ProfileReport\n",
    "# profile = ProfileReport(df)\n",
    "# profile.to_notebook_iframe()"
   ]
  },
  {
   "cell_type": "markdown",
   "id": "006b77f1-7624-405f-9b5d-9120a078e73b",
   "metadata": {},
   "source": [
    "### Preprocessing"
   ]
  },
  {
   "cell_type": "code",
   "execution_count": 35,
   "id": "a211f1f0-1745-4d8b-83a3-0a915beacf47",
   "metadata": {},
   "outputs": [],
   "source": [
    "def preprocessing(df):\n",
    "    #Dropping Correleted Features\n",
    "    df.drop(['make', 'cylinder', 'gear_box', 'turning_radius', 'length', 'width', 'gross_weight', 'ncap_rating'],axis=1,inplace=True)\n",
    "    #Dropping High Cardinality,Unneccesary Columns\n",
    "    df.drop('policy_id',axis=1,inplace=True)\n",
    "    df['airbags'] = df['airbags'].astype(str)\n",
    "    df['displacement'] = df['displacement'].astype(str)\n",
    "    df['height'] = df['height'].astype(str)"
   ]
  },
  {
   "cell_type": "code",
   "execution_count": 99,
   "id": "835b32f3-b1e2-4eb1-96da-48bc66351726",
   "metadata": {},
   "outputs": [],
   "source": [
    "df_copy = df.copy()\n",
    "preprocessing(df_copy)"
   ]
  },
  {
   "cell_type": "code",
   "execution_count": 100,
   "id": "3e8ba6cc-6497-4f1c-80cb-0165015f8da4",
   "metadata": {},
   "outputs": [
    {
     "name": "stdout",
     "output_type": "stream",
     "text": [
      "<class 'pandas.core.frame.DataFrame'>\n",
      "RangeIndex: 58592 entries, 0 to 58591\n",
      "Data columns (total 35 columns):\n",
      " #   Column                            Non-Null Count  Dtype  \n",
      "---  ------                            --------------  -----  \n",
      " 0   policy_tenure                     58592 non-null  float64\n",
      " 1   age_of_car                        58592 non-null  float64\n",
      " 2   age_of_policyholder               58592 non-null  float64\n",
      " 3   area_cluster                      58592 non-null  object \n",
      " 4   population_density                58592 non-null  int64  \n",
      " 5   segment                           58592 non-null  object \n",
      " 6   model                             58592 non-null  object \n",
      " 7   fuel_type                         58592 non-null  object \n",
      " 8   max_torque                        58592 non-null  object \n",
      " 9   max_power                         58592 non-null  object \n",
      " 10  engine_type                       58592 non-null  object \n",
      " 11  airbags                           58592 non-null  object \n",
      " 12  is_esc                            58592 non-null  object \n",
      " 13  is_adjustable_steering            58592 non-null  object \n",
      " 14  is_tpms                           58592 non-null  object \n",
      " 15  is_parking_sensors                58592 non-null  object \n",
      " 16  is_parking_camera                 58592 non-null  object \n",
      " 17  rear_brakes_type                  58592 non-null  object \n",
      " 18  displacement                      58592 non-null  object \n",
      " 19  transmission_type                 58592 non-null  object \n",
      " 20  steering_type                     58592 non-null  object \n",
      " 21  height                            58592 non-null  object \n",
      " 22  is_front_fog_lights               58592 non-null  object \n",
      " 23  is_rear_window_wiper              58592 non-null  object \n",
      " 24  is_rear_window_washer             58592 non-null  object \n",
      " 25  is_rear_window_defogger           58592 non-null  object \n",
      " 26  is_brake_assist                   58592 non-null  object \n",
      " 27  is_power_door_locks               58592 non-null  object \n",
      " 28  is_central_locking                58592 non-null  object \n",
      " 29  is_power_steering                 58592 non-null  object \n",
      " 30  is_driver_seat_height_adjustable  58592 non-null  object \n",
      " 31  is_day_night_rear_view_mirror     58592 non-null  object \n",
      " 32  is_ecw                            58592 non-null  object \n",
      " 33  is_speed_alert                    58592 non-null  object \n",
      " 34  is_claim                          58592 non-null  int64  \n",
      "dtypes: float64(3), int64(2), object(30)\n",
      "memory usage: 15.6+ MB\n"
     ]
    }
   ],
   "source": [
    "df_copy.info()"
   ]
  },
  {
   "cell_type": "markdown",
   "id": "376bd577-5f7d-49fa-a0f0-096a4c7f72cd",
   "metadata": {},
   "source": [
    "### Feature and Target Selection"
   ]
  },
  {
   "cell_type": "code",
   "execution_count": 101,
   "id": "626f8563-5938-4f9e-a59d-833ad35ac793",
   "metadata": {},
   "outputs": [],
   "source": [
    "X = df_copy.drop('is_claim',axis=1)\n",
    "y = df_copy['is_claim']"
   ]
  },
  {
   "cell_type": "code",
   "execution_count": 140,
   "id": "a702317f-2043-44f8-8551-4942e78b02c0",
   "metadata": {},
   "outputs": [
    {
     "data": {
      "text/plain": [
       "0    54844\n",
       "1     3748\n",
       "Name: is_claim, dtype: int64"
      ]
     },
     "execution_count": 140,
     "metadata": {},
     "output_type": "execute_result"
    }
   ],
   "source": [
    "y.value_counts()"
   ]
  },
  {
   "cell_type": "markdown",
   "id": "0625cb72-aa85-4a1f-ab9e-b2e270661814",
   "metadata": {},
   "source": [
    "### Column Transformer"
   ]
  },
  {
   "cell_type": "code",
   "execution_count": 102,
   "id": "a101588c-efcb-4397-bd72-807060cd0210",
   "metadata": {},
   "outputs": [],
   "source": [
    "from sklearn.pipeline import make_pipeline, Pipeline\n",
    "from sklearn.preprocessing import StandardScaler\n",
    "from sklearn.compose import ColumnTransformer\n",
    "from sklearn.preprocessing import OneHotEncoder"
   ]
  },
  {
   "cell_type": "code",
   "execution_count": 103,
   "id": "f9ddfe29-b7c8-4682-89fe-5ea8ad752422",
   "metadata": {},
   "outputs": [],
   "source": [
    "#Seperating Categorical Features\n",
    "categorical_features = X.select_dtypes('object').columns\n",
    "categorical_pipeline = Pipeline([('onehot', OneHotEncoder())])"
   ]
  },
  {
   "cell_type": "code",
   "execution_count": 104,
   "id": "a44e3e64-96c8-4e3c-ab71-1f52c1c654cf",
   "metadata": {},
   "outputs": [
    {
     "data": {
      "text/plain": [
       "Index(['area_cluster', 'segment', 'model', 'fuel_type', 'max_torque',\n",
       "       'max_power', 'engine_type', 'airbags', 'is_esc',\n",
       "       'is_adjustable_steering', 'is_tpms', 'is_parking_sensors',\n",
       "       'is_parking_camera', 'rear_brakes_type', 'displacement',\n",
       "       'transmission_type', 'steering_type', 'height', 'is_front_fog_lights',\n",
       "       'is_rear_window_wiper', 'is_rear_window_washer',\n",
       "       'is_rear_window_defogger', 'is_brake_assist', 'is_power_door_locks',\n",
       "       'is_central_locking', 'is_power_steering',\n",
       "       'is_driver_seat_height_adjustable', 'is_day_night_rear_view_mirror',\n",
       "       'is_ecw', 'is_speed_alert'],\n",
       "      dtype='object')"
      ]
     },
     "execution_count": 104,
     "metadata": {},
     "output_type": "execute_result"
    }
   ],
   "source": [
    "categorical_features"
   ]
  },
  {
   "cell_type": "code",
   "execution_count": 105,
   "id": "af296486-1a8e-4d41-8458-3fb1e10243c3",
   "metadata": {},
   "outputs": [],
   "source": [
    "#Seperating Numerical Features\n",
    "numeric_features = ['population_density']\n",
    "numeric_pipeline = Pipeline([('scaler', StandardScaler())])"
   ]
  },
  {
   "cell_type": "code",
   "execution_count": 106,
   "id": "1b738f82-81f8-4e12-bb55-2ffea6f9b755",
   "metadata": {},
   "outputs": [],
   "source": [
    "#Column Transformer\n",
    "transformer = ColumnTransformer([('numeric_preprocessing', numeric_pipeline, numeric_features), \n",
    "                                 ('categorical_preprocessing', categorical_pipeline, categorical_features)])"
   ]
  },
  {
   "cell_type": "markdown",
   "id": "f176f2ba-70ba-43a8-ae57-96657f91fa5f",
   "metadata": {},
   "source": [
    "### Creating ML-Pipeline"
   ]
  },
  {
   "cell_type": "code",
   "execution_count": 44,
   "id": "39ff4e41-44e9-4fec-b19f-41a8b1676584",
   "metadata": {},
   "outputs": [],
   "source": [
    "from sklearn.ensemble import RandomForestClassifier\n",
    "from sklearn.svm import SVC\n",
    "from sklearn.neighbors import KNeighborsClassifier"
   ]
  },
  {
   "cell_type": "code",
   "execution_count": 45,
   "id": "194dc262-4652-49eb-95f9-8d9c99fc5471",
   "metadata": {},
   "outputs": [],
   "source": [
    "ml_pipeline = Pipeline([('all_column_preprocessing', transformer), ('randomforest', RandomForestClassifier())])"
   ]
  },
  {
   "cell_type": "markdown",
   "id": "05fb7391-cbcb-456e-9f81-5924f6039ac4",
   "metadata": {},
   "source": [
    "### Train Test Split"
   ]
  },
  {
   "cell_type": "code",
   "execution_count": 46,
   "id": "1a3ef6b9-d315-4508-b38a-aa7ef8648de6",
   "metadata": {},
   "outputs": [],
   "source": [
    "from sklearn.model_selection import train_test_split"
   ]
  },
  {
   "cell_type": "code",
   "execution_count": 47,
   "id": "e8c0994c-a7a5-4c26-9c07-f932528a063d",
   "metadata": {},
   "outputs": [],
   "source": [
    "x_train,x_test,y_train,y_test = train_test_split(X,y,test_size=0.3,random_state=42)"
   ]
  },
  {
   "cell_type": "markdown",
   "id": "099846a2-8a11-412d-85b2-c678ab4ca76a",
   "metadata": {},
   "source": [
    "## Model Training"
   ]
  },
  {
   "cell_type": "code",
   "execution_count": 48,
   "id": "b58abd39-06dd-4955-8ab7-9f4afa8592f3",
   "metadata": {},
   "outputs": [
    {
     "data": {
      "text/html": [
       "<style>#sk-container-id-1 {color: black;background-color: white;}#sk-container-id-1 pre{padding: 0;}#sk-container-id-1 div.sk-toggleable {background-color: white;}#sk-container-id-1 label.sk-toggleable__label {cursor: pointer;display: block;width: 100%;margin-bottom: 0;padding: 0.3em;box-sizing: border-box;text-align: center;}#sk-container-id-1 label.sk-toggleable__label-arrow:before {content: \"▸\";float: left;margin-right: 0.25em;color: #696969;}#sk-container-id-1 label.sk-toggleable__label-arrow:hover:before {color: black;}#sk-container-id-1 div.sk-estimator:hover label.sk-toggleable__label-arrow:before {color: black;}#sk-container-id-1 div.sk-toggleable__content {max-height: 0;max-width: 0;overflow: hidden;text-align: left;background-color: #f0f8ff;}#sk-container-id-1 div.sk-toggleable__content pre {margin: 0.2em;color: black;border-radius: 0.25em;background-color: #f0f8ff;}#sk-container-id-1 input.sk-toggleable__control:checked~div.sk-toggleable__content {max-height: 200px;max-width: 100%;overflow: auto;}#sk-container-id-1 input.sk-toggleable__control:checked~label.sk-toggleable__label-arrow:before {content: \"▾\";}#sk-container-id-1 div.sk-estimator input.sk-toggleable__control:checked~label.sk-toggleable__label {background-color: #d4ebff;}#sk-container-id-1 div.sk-label input.sk-toggleable__control:checked~label.sk-toggleable__label {background-color: #d4ebff;}#sk-container-id-1 input.sk-hidden--visually {border: 0;clip: rect(1px 1px 1px 1px);clip: rect(1px, 1px, 1px, 1px);height: 1px;margin: -1px;overflow: hidden;padding: 0;position: absolute;width: 1px;}#sk-container-id-1 div.sk-estimator {font-family: monospace;background-color: #f0f8ff;border: 1px dotted black;border-radius: 0.25em;box-sizing: border-box;margin-bottom: 0.5em;}#sk-container-id-1 div.sk-estimator:hover {background-color: #d4ebff;}#sk-container-id-1 div.sk-parallel-item::after {content: \"\";width: 100%;border-bottom: 1px solid gray;flex-grow: 1;}#sk-container-id-1 div.sk-label:hover label.sk-toggleable__label {background-color: #d4ebff;}#sk-container-id-1 div.sk-serial::before {content: \"\";position: absolute;border-left: 1px solid gray;box-sizing: border-box;top: 0;bottom: 0;left: 50%;z-index: 0;}#sk-container-id-1 div.sk-serial {display: flex;flex-direction: column;align-items: center;background-color: white;padding-right: 0.2em;padding-left: 0.2em;position: relative;}#sk-container-id-1 div.sk-item {position: relative;z-index: 1;}#sk-container-id-1 div.sk-parallel {display: flex;align-items: stretch;justify-content: center;background-color: white;position: relative;}#sk-container-id-1 div.sk-item::before, #sk-container-id-1 div.sk-parallel-item::before {content: \"\";position: absolute;border-left: 1px solid gray;box-sizing: border-box;top: 0;bottom: 0;left: 50%;z-index: -1;}#sk-container-id-1 div.sk-parallel-item {display: flex;flex-direction: column;z-index: 1;position: relative;background-color: white;}#sk-container-id-1 div.sk-parallel-item:first-child::after {align-self: flex-end;width: 50%;}#sk-container-id-1 div.sk-parallel-item:last-child::after {align-self: flex-start;width: 50%;}#sk-container-id-1 div.sk-parallel-item:only-child::after {width: 0;}#sk-container-id-1 div.sk-dashed-wrapped {border: 1px dashed gray;margin: 0 0.4em 0.5em 0.4em;box-sizing: border-box;padding-bottom: 0.4em;background-color: white;}#sk-container-id-1 div.sk-label label {font-family: monospace;font-weight: bold;display: inline-block;line-height: 1.2em;}#sk-container-id-1 div.sk-label-container {text-align: center;}#sk-container-id-1 div.sk-container {/* jupyter's `normalize.less` sets `[hidden] { display: none; }` but bootstrap.min.css set `[hidden] { display: none !important; }` so we also need the `!important` here to be able to override the default hidden behavior on the sphinx rendered scikit-learn.org. See: https://github.com/scikit-learn/scikit-learn/issues/21755 */display: inline-block !important;position: relative;}#sk-container-id-1 div.sk-text-repr-fallback {display: none;}</style><div id=\"sk-container-id-1\" class=\"sk-top-container\"><div class=\"sk-text-repr-fallback\"><pre>Pipeline(steps=[(&#x27;all_column_preprocessing&#x27;,\n",
       "                 ColumnTransformer(transformers=[(&#x27;numeric_preprocessing&#x27;,\n",
       "                                                  Pipeline(steps=[(&#x27;scaler&#x27;,\n",
       "                                                                   StandardScaler())]),\n",
       "                                                  [&#x27;population_density&#x27;]),\n",
       "                                                 (&#x27;categorical_preprocessing&#x27;,\n",
       "                                                  Pipeline(steps=[(&#x27;onehot&#x27;,\n",
       "                                                                   OneHotEncoder())]),\n",
       "                                                  Index([&#x27;area_cluster&#x27;, &#x27;segment&#x27;, &#x27;model&#x27;, &#x27;fuel_type&#x27;, &#x27;max_torque&#x27;,\n",
       "       &#x27;max_power&#x27;, &#x27;engine_type&#x27;, &#x27;airbags&#x27;, &#x27;is_...\n",
       "       &#x27;transmission_type&#x27;, &#x27;steering_type&#x27;, &#x27;height&#x27;, &#x27;is_front_fog_lights&#x27;,\n",
       "       &#x27;is_rear_window_wiper&#x27;, &#x27;is_rear_window_washer&#x27;,\n",
       "       &#x27;is_rear_window_defogger&#x27;, &#x27;is_brake_assist&#x27;, &#x27;is_power_door_locks&#x27;,\n",
       "       &#x27;is_central_locking&#x27;, &#x27;is_power_steering&#x27;,\n",
       "       &#x27;is_driver_seat_height_adjustable&#x27;, &#x27;is_day_night_rear_view_mirror&#x27;,\n",
       "       &#x27;is_ecw&#x27;, &#x27;is_speed_alert&#x27;],\n",
       "      dtype=&#x27;object&#x27;))])),\n",
       "                (&#x27;randomforest&#x27;, RandomForestClassifier())])</pre><b>In a Jupyter environment, please rerun this cell to show the HTML representation or trust the notebook. <br />On GitHub, the HTML representation is unable to render, please try loading this page with nbviewer.org.</b></div><div class=\"sk-container\" hidden><div class=\"sk-item sk-dashed-wrapped\"><div class=\"sk-label-container\"><div class=\"sk-label sk-toggleable\"><input class=\"sk-toggleable__control sk-hidden--visually\" id=\"sk-estimator-id-1\" type=\"checkbox\" ><label for=\"sk-estimator-id-1\" class=\"sk-toggleable__label sk-toggleable__label-arrow\">Pipeline</label><div class=\"sk-toggleable__content\"><pre>Pipeline(steps=[(&#x27;all_column_preprocessing&#x27;,\n",
       "                 ColumnTransformer(transformers=[(&#x27;numeric_preprocessing&#x27;,\n",
       "                                                  Pipeline(steps=[(&#x27;scaler&#x27;,\n",
       "                                                                   StandardScaler())]),\n",
       "                                                  [&#x27;population_density&#x27;]),\n",
       "                                                 (&#x27;categorical_preprocessing&#x27;,\n",
       "                                                  Pipeline(steps=[(&#x27;onehot&#x27;,\n",
       "                                                                   OneHotEncoder())]),\n",
       "                                                  Index([&#x27;area_cluster&#x27;, &#x27;segment&#x27;, &#x27;model&#x27;, &#x27;fuel_type&#x27;, &#x27;max_torque&#x27;,\n",
       "       &#x27;max_power&#x27;, &#x27;engine_type&#x27;, &#x27;airbags&#x27;, &#x27;is_...\n",
       "       &#x27;transmission_type&#x27;, &#x27;steering_type&#x27;, &#x27;height&#x27;, &#x27;is_front_fog_lights&#x27;,\n",
       "       &#x27;is_rear_window_wiper&#x27;, &#x27;is_rear_window_washer&#x27;,\n",
       "       &#x27;is_rear_window_defogger&#x27;, &#x27;is_brake_assist&#x27;, &#x27;is_power_door_locks&#x27;,\n",
       "       &#x27;is_central_locking&#x27;, &#x27;is_power_steering&#x27;,\n",
       "       &#x27;is_driver_seat_height_adjustable&#x27;, &#x27;is_day_night_rear_view_mirror&#x27;,\n",
       "       &#x27;is_ecw&#x27;, &#x27;is_speed_alert&#x27;],\n",
       "      dtype=&#x27;object&#x27;))])),\n",
       "                (&#x27;randomforest&#x27;, RandomForestClassifier())])</pre></div></div></div><div class=\"sk-serial\"><div class=\"sk-item sk-dashed-wrapped\"><div class=\"sk-label-container\"><div class=\"sk-label sk-toggleable\"><input class=\"sk-toggleable__control sk-hidden--visually\" id=\"sk-estimator-id-2\" type=\"checkbox\" ><label for=\"sk-estimator-id-2\" class=\"sk-toggleable__label sk-toggleable__label-arrow\">all_column_preprocessing: ColumnTransformer</label><div class=\"sk-toggleable__content\"><pre>ColumnTransformer(transformers=[(&#x27;numeric_preprocessing&#x27;,\n",
       "                                 Pipeline(steps=[(&#x27;scaler&#x27;, StandardScaler())]),\n",
       "                                 [&#x27;population_density&#x27;]),\n",
       "                                (&#x27;categorical_preprocessing&#x27;,\n",
       "                                 Pipeline(steps=[(&#x27;onehot&#x27;, OneHotEncoder())]),\n",
       "                                 Index([&#x27;area_cluster&#x27;, &#x27;segment&#x27;, &#x27;model&#x27;, &#x27;fuel_type&#x27;, &#x27;max_torque&#x27;,\n",
       "       &#x27;max_power&#x27;, &#x27;engine_type&#x27;, &#x27;airbags&#x27;, &#x27;is_esc&#x27;,\n",
       "       &#x27;is_adjustable_steering&#x27;, &#x27;is_tpms&#x27;, &#x27;is_...\n",
       "       &#x27;is_parking_camera&#x27;, &#x27;rear_brakes_type&#x27;, &#x27;displacement&#x27;,\n",
       "       &#x27;transmission_type&#x27;, &#x27;steering_type&#x27;, &#x27;height&#x27;, &#x27;is_front_fog_lights&#x27;,\n",
       "       &#x27;is_rear_window_wiper&#x27;, &#x27;is_rear_window_washer&#x27;,\n",
       "       &#x27;is_rear_window_defogger&#x27;, &#x27;is_brake_assist&#x27;, &#x27;is_power_door_locks&#x27;,\n",
       "       &#x27;is_central_locking&#x27;, &#x27;is_power_steering&#x27;,\n",
       "       &#x27;is_driver_seat_height_adjustable&#x27;, &#x27;is_day_night_rear_view_mirror&#x27;,\n",
       "       &#x27;is_ecw&#x27;, &#x27;is_speed_alert&#x27;],\n",
       "      dtype=&#x27;object&#x27;))])</pre></div></div></div><div class=\"sk-parallel\"><div class=\"sk-parallel-item\"><div class=\"sk-item\"><div class=\"sk-label-container\"><div class=\"sk-label sk-toggleable\"><input class=\"sk-toggleable__control sk-hidden--visually\" id=\"sk-estimator-id-3\" type=\"checkbox\" ><label for=\"sk-estimator-id-3\" class=\"sk-toggleable__label sk-toggleable__label-arrow\">numeric_preprocessing</label><div class=\"sk-toggleable__content\"><pre>[&#x27;population_density&#x27;]</pre></div></div></div><div class=\"sk-serial\"><div class=\"sk-item\"><div class=\"sk-serial\"><div class=\"sk-item\"><div class=\"sk-estimator sk-toggleable\"><input class=\"sk-toggleable__control sk-hidden--visually\" id=\"sk-estimator-id-4\" type=\"checkbox\" ><label for=\"sk-estimator-id-4\" class=\"sk-toggleable__label sk-toggleable__label-arrow\">StandardScaler</label><div class=\"sk-toggleable__content\"><pre>StandardScaler()</pre></div></div></div></div></div></div></div></div><div class=\"sk-parallel-item\"><div class=\"sk-item\"><div class=\"sk-label-container\"><div class=\"sk-label sk-toggleable\"><input class=\"sk-toggleable__control sk-hidden--visually\" id=\"sk-estimator-id-5\" type=\"checkbox\" ><label for=\"sk-estimator-id-5\" class=\"sk-toggleable__label sk-toggleable__label-arrow\">categorical_preprocessing</label><div class=\"sk-toggleable__content\"><pre>Index([&#x27;area_cluster&#x27;, &#x27;segment&#x27;, &#x27;model&#x27;, &#x27;fuel_type&#x27;, &#x27;max_torque&#x27;,\n",
       "       &#x27;max_power&#x27;, &#x27;engine_type&#x27;, &#x27;airbags&#x27;, &#x27;is_esc&#x27;,\n",
       "       &#x27;is_adjustable_steering&#x27;, &#x27;is_tpms&#x27;, &#x27;is_parking_sensors&#x27;,\n",
       "       &#x27;is_parking_camera&#x27;, &#x27;rear_brakes_type&#x27;, &#x27;displacement&#x27;,\n",
       "       &#x27;transmission_type&#x27;, &#x27;steering_type&#x27;, &#x27;height&#x27;, &#x27;is_front_fog_lights&#x27;,\n",
       "       &#x27;is_rear_window_wiper&#x27;, &#x27;is_rear_window_washer&#x27;,\n",
       "       &#x27;is_rear_window_defogger&#x27;, &#x27;is_brake_assist&#x27;, &#x27;is_power_door_locks&#x27;,\n",
       "       &#x27;is_central_locking&#x27;, &#x27;is_power_steering&#x27;,\n",
       "       &#x27;is_driver_seat_height_adjustable&#x27;, &#x27;is_day_night_rear_view_mirror&#x27;,\n",
       "       &#x27;is_ecw&#x27;, &#x27;is_speed_alert&#x27;],\n",
       "      dtype=&#x27;object&#x27;)</pre></div></div></div><div class=\"sk-serial\"><div class=\"sk-item\"><div class=\"sk-serial\"><div class=\"sk-item\"><div class=\"sk-estimator sk-toggleable\"><input class=\"sk-toggleable__control sk-hidden--visually\" id=\"sk-estimator-id-6\" type=\"checkbox\" ><label for=\"sk-estimator-id-6\" class=\"sk-toggleable__label sk-toggleable__label-arrow\">OneHotEncoder</label><div class=\"sk-toggleable__content\"><pre>OneHotEncoder()</pre></div></div></div></div></div></div></div></div></div></div><div class=\"sk-item\"><div class=\"sk-estimator sk-toggleable\"><input class=\"sk-toggleable__control sk-hidden--visually\" id=\"sk-estimator-id-7\" type=\"checkbox\" ><label for=\"sk-estimator-id-7\" class=\"sk-toggleable__label sk-toggleable__label-arrow\">RandomForestClassifier</label><div class=\"sk-toggleable__content\"><pre>RandomForestClassifier()</pre></div></div></div></div></div></div></div>"
      ],
      "text/plain": [
       "Pipeline(steps=[('all_column_preprocessing',\n",
       "                 ColumnTransformer(transformers=[('numeric_preprocessing',\n",
       "                                                  Pipeline(steps=[('scaler',\n",
       "                                                                   StandardScaler())]),\n",
       "                                                  ['population_density']),\n",
       "                                                 ('categorical_preprocessing',\n",
       "                                                  Pipeline(steps=[('onehot',\n",
       "                                                                   OneHotEncoder())]),\n",
       "                                                  Index(['area_cluster', 'segment', 'model', 'fuel_type', 'max_torque',\n",
       "       'max_power', 'engine_type', 'airbags', 'is_...\n",
       "       'transmission_type', 'steering_type', 'height', 'is_front_fog_lights',\n",
       "       'is_rear_window_wiper', 'is_rear_window_washer',\n",
       "       'is_rear_window_defogger', 'is_brake_assist', 'is_power_door_locks',\n",
       "       'is_central_locking', 'is_power_steering',\n",
       "       'is_driver_seat_height_adjustable', 'is_day_night_rear_view_mirror',\n",
       "       'is_ecw', 'is_speed_alert'],\n",
       "      dtype='object'))])),\n",
       "                ('randomforest', RandomForestClassifier())])"
      ]
     },
     "execution_count": 48,
     "metadata": {},
     "output_type": "execute_result"
    }
   ],
   "source": [
    "ml_pipeline.fit(x_train, y_train)"
   ]
  },
  {
   "cell_type": "markdown",
   "id": "1f85b544-94b0-4000-93e8-a874cf112220",
   "metadata": {},
   "source": [
    "### Predictions"
   ]
  },
  {
   "cell_type": "code",
   "execution_count": 49,
   "id": "5ea204a1-71db-4cea-a36a-a2f109e8c2df",
   "metadata": {},
   "outputs": [
    {
     "data": {
      "text/plain": [
       "array([0], dtype=int64)"
      ]
     },
     "execution_count": 49,
     "metadata": {},
     "output_type": "execute_result"
    }
   ],
   "source": [
    "pred = ml_pipeline.predict(x_test)\n",
    "np.unique(pred)"
   ]
  },
  {
   "cell_type": "markdown",
   "id": "f7b33bbe-aa82-4997-a67d-4f7c19f05b7a",
   "metadata": {},
   "source": [
    "### Confusion Matrix"
   ]
  },
  {
   "cell_type": "code",
   "execution_count": 50,
   "id": "b6a1b2de-fd18-4d92-8c37-963110386743",
   "metadata": {},
   "outputs": [
    {
     "name": "stdout",
     "output_type": "stream",
     "text": [
      "[[16417     0]\n",
      " [ 1161     0]]\n"
     ]
    }
   ],
   "source": [
    "from sklearn.metrics import confusion_matrix\n",
    "print (confusion_matrix(y_test, pred))"
   ]
  },
  {
   "cell_type": "markdown",
   "id": "e3739d4a-fe43-4295-9320-98fc683934fd",
   "metadata": {},
   "source": [
    "### Accuracy"
   ]
  },
  {
   "cell_type": "code",
   "execution_count": 51,
   "id": "75130136-dd35-4943-894a-5346a19213f6",
   "metadata": {},
   "outputs": [
    {
     "name": "stdout",
     "output_type": "stream",
     "text": [
      "0.9339515303219934\n"
     ]
    }
   ],
   "source": [
    "from sklearn import metrics\n",
    "print(metrics.accuracy_score(y_test,pred))"
   ]
  },
  {
   "cell_type": "markdown",
   "id": "1af97cc9-3503-430f-91e3-ed2788e8e030",
   "metadata": {},
   "source": [
    "### Evaluate Performance on Test Partition"
   ]
  },
  {
   "cell_type": "code",
   "execution_count": 52,
   "id": "63c5ee78-6323-4ff3-892c-61030b55ac4a",
   "metadata": {},
   "outputs": [],
   "source": [
    "from sklearn.metrics import accuracy_score, precision_score, recall_score"
   ]
  },
  {
   "cell_type": "code",
   "execution_count": 53,
   "id": "ad939e12-0bc7-4f84-baaa-640e42e80da7",
   "metadata": {},
   "outputs": [
    {
     "name": "stdout",
     "output_type": "stream",
     "text": [
      "Metrics for Decison Tree : accuracy- 0.9339515303219934, recall- 0.0, precision- 0.0\n"
     ]
    },
    {
     "name": "stderr",
     "output_type": "stream",
     "text": [
      "D:\\Anaconda\\lib\\site-packages\\sklearn\\metrics\\_classification.py:1334: UndefinedMetricWarning: Precision is ill-defined and being set to 0.0 due to no predicted samples. Use `zero_division` parameter to control this behavior.\n",
      "  _warn_prf(average, modifier, msg_start, len(result))\n"
     ]
    }
   ],
   "source": [
    "# Evaluate Performance of the Model\n",
    "accuracy = accuracy_score(y_test,pred)\n",
    "precision = precision_score(y_test,pred)\n",
    "recall = recall_score(y_test,pred)\n",
    "print(f'Metrics for Decison Tree : accuracy- {accuracy}, recall- {recall}, precision- {precision}')"
   ]
  },
  {
   "cell_type": "markdown",
   "id": "85933c19-8f31-4557-8986-c4ef0d7f29cb",
   "metadata": {},
   "source": [
    "- Accuracy is very great but Recall and Precision are just terrible"
   ]
  },
  {
   "cell_type": "markdown",
   "id": "1b8dbae7-0f4e-4475-abfa-ea0d8eef2355",
   "metadata": {},
   "source": [
    "## Insights and Problems"
   ]
  },
  {
   "cell_type": "markdown",
   "id": "759fe845-8b2b-4f3a-9e60-5f0f97da318a",
   "metadata": {},
   "source": [
    "- The Target variable is highly biased towards zero\n",
    "- So the model gets overfitted towards the majority class zero and ones are completely ignored\n",
    "- This we can clearly see from Performance Matrix in which accuracy is great but recall and precision is very poor\n",
    "- This problem can be solved by \n",
    "        1. Undersampling the majority class\n",
    "        2. Oversampling the minority class\n",
    "        3. SMOTE - Synthetic Minority Oversampling Technique\n",
    "        4. Use of ensemble for undersampling\n",
    "\n"
   ]
  },
  {
   "cell_type": "markdown",
   "id": "f5939dc6-f90e-4dbb-9064-9bf2bdf8696a",
   "metadata": {},
   "source": [
    "## Reducing Data Biaseness"
   ]
  },
  {
   "cell_type": "markdown",
   "id": "965aba90-ad4d-417d-ac7b-9e8589eae533",
   "metadata": {},
   "source": [
    "### 1. UnderSampling the Majority Class"
   ]
  },
  {
   "cell_type": "code",
   "execution_count": 55,
   "id": "eba0e8f5-a54c-44a2-9afb-0016c43250f5",
   "metadata": {},
   "outputs": [
    {
     "data": {
      "text/plain": [
       "0    16417\n",
       "1     1161\n",
       "Name: is_claim, dtype: int64"
      ]
     },
     "execution_count": 55,
     "metadata": {},
     "output_type": "execute_result"
    }
   ],
   "source": [
    "y_test.value_counts()"
   ]
  },
  {
   "cell_type": "code",
   "execution_count": 56,
   "id": "b67bcd4a-55fb-4bed-8f55-f657a056f96b",
   "metadata": {},
   "outputs": [],
   "source": [
    "# Class Counts\n",
    "count_class_0, count_class_1 = df_copy.is_claim.value_counts()\n",
    "\n",
    "# Divide by Class\n",
    "df_class_0 = df_copy[df_copy['is_claim'] == 0]\n",
    "df_class_1 = df_copy[df_copy['is_claim'] == 1]"
   ]
  },
  {
   "cell_type": "code",
   "execution_count": 57,
   "id": "b4660c5f-2da1-4dca-9336-c137a13ad135",
   "metadata": {},
   "outputs": [
    {
     "data": {
      "text/plain": [
       "(54844, 3748)"
      ]
     },
     "execution_count": 57,
     "metadata": {},
     "output_type": "execute_result"
    }
   ],
   "source": [
    "count_class_0, count_class_1"
   ]
  },
  {
   "cell_type": "code",
   "execution_count": 58,
   "id": "2d22f84a-a329-4774-9b06-eb813c97cf95",
   "metadata": {},
   "outputs": [
    {
     "data": {
      "text/plain": [
       "(54844, 35)"
      ]
     },
     "execution_count": 58,
     "metadata": {},
     "output_type": "execute_result"
    }
   ],
   "source": [
    "df_class_0.shape"
   ]
  },
  {
   "cell_type": "code",
   "execution_count": 59,
   "id": "1199a968-4eaf-4b30-bad0-776c75f0dcf9",
   "metadata": {},
   "outputs": [
    {
     "data": {
      "text/plain": [
       "(3748, 35)"
      ]
     },
     "execution_count": 59,
     "metadata": {},
     "output_type": "execute_result"
    }
   ],
   "source": [
    "df_class_1.shape"
   ]
  },
  {
   "cell_type": "code",
   "execution_count": 60,
   "id": "71d12c4f-4d16-46fa-bff1-0bcaf1ce19b2",
   "metadata": {},
   "outputs": [],
   "source": [
    "#Randomly Sampling Class0 data equal to class1 data\n",
    "df_class_0_usample = df_class_0.sample(count_class_1)"
   ]
  },
  {
   "cell_type": "code",
   "execution_count": 61,
   "id": "45708932-429d-4172-9a96-34901c1f9eee",
   "metadata": {},
   "outputs": [],
   "source": [
    "undersampled_df = pd.concat([df_class_0_usample, df_class_1],axis=0)"
   ]
  },
  {
   "cell_type": "code",
   "execution_count": 62,
   "id": "38e68a24-abe9-456b-958e-7f991079a200",
   "metadata": {},
   "outputs": [
    {
     "data": {
      "text/plain": [
       "(7496, 35)"
      ]
     },
     "execution_count": 62,
     "metadata": {},
     "output_type": "execute_result"
    }
   ],
   "source": [
    "undersampled_df.shape"
   ]
  },
  {
   "cell_type": "code",
   "execution_count": 63,
   "id": "e77ade23-eac2-466a-b10f-7d64ca759b2e",
   "metadata": {},
   "outputs": [
    {
     "data": {
      "text/plain": [
       "0    3748\n",
       "1    3748\n",
       "Name: is_claim, dtype: int64"
      ]
     },
     "execution_count": 63,
     "metadata": {},
     "output_type": "execute_result"
    }
   ],
   "source": [
    "undersampled_df.is_claim.value_counts()"
   ]
  },
  {
   "cell_type": "markdown",
   "id": "dc64a4ab-5f09-474b-a68b-a3e3cce11240",
   "metadata": {},
   "source": [
    "### Seperating Feature and Target Columns"
   ]
  },
  {
   "cell_type": "code",
   "execution_count": 64,
   "id": "70b9ead3-1d63-40ca-bd75-0a29f1246fb8",
   "metadata": {},
   "outputs": [],
   "source": [
    "X = undersampled_df.drop('is_claim',axis=1)\n",
    "y = undersampled_df['is_claim']"
   ]
  },
  {
   "cell_type": "code",
   "execution_count": 65,
   "id": "47361496-429c-47be-8fe8-dfa4965fe7aa",
   "metadata": {},
   "outputs": [],
   "source": [
    "from sklearn.model_selection import train_test_split\n",
    "x_train,x_test,y_train,y_test = train_test_split(X,y,test_size=0.3,random_state=42, stratify=y)"
   ]
  },
  {
   "cell_type": "code",
   "execution_count": 66,
   "id": "0e4aec54-630c-411f-9895-add51d4c2ea0",
   "metadata": {},
   "outputs": [
    {
     "data": {
      "text/plain": [
       "1    2624\n",
       "0    2623\n",
       "Name: is_claim, dtype: int64"
      ]
     },
     "execution_count": 66,
     "metadata": {},
     "output_type": "execute_result"
    }
   ],
   "source": [
    "y_train.value_counts()"
   ]
  },
  {
   "cell_type": "markdown",
   "id": "55b0ab03-4d31-4964-a969-14bc1348a5d1",
   "metadata": {},
   "source": [
    "## Model Training"
   ]
  },
  {
   "cell_type": "code",
   "execution_count": 67,
   "id": "6ece88bb-52c2-4b91-8bbf-0b631dadc32e",
   "metadata": {},
   "outputs": [
    {
     "data": {
      "text/html": [
       "<style>#sk-container-id-2 {color: black;background-color: white;}#sk-container-id-2 pre{padding: 0;}#sk-container-id-2 div.sk-toggleable {background-color: white;}#sk-container-id-2 label.sk-toggleable__label {cursor: pointer;display: block;width: 100%;margin-bottom: 0;padding: 0.3em;box-sizing: border-box;text-align: center;}#sk-container-id-2 label.sk-toggleable__label-arrow:before {content: \"▸\";float: left;margin-right: 0.25em;color: #696969;}#sk-container-id-2 label.sk-toggleable__label-arrow:hover:before {color: black;}#sk-container-id-2 div.sk-estimator:hover label.sk-toggleable__label-arrow:before {color: black;}#sk-container-id-2 div.sk-toggleable__content {max-height: 0;max-width: 0;overflow: hidden;text-align: left;background-color: #f0f8ff;}#sk-container-id-2 div.sk-toggleable__content pre {margin: 0.2em;color: black;border-radius: 0.25em;background-color: #f0f8ff;}#sk-container-id-2 input.sk-toggleable__control:checked~div.sk-toggleable__content {max-height: 200px;max-width: 100%;overflow: auto;}#sk-container-id-2 input.sk-toggleable__control:checked~label.sk-toggleable__label-arrow:before {content: \"▾\";}#sk-container-id-2 div.sk-estimator input.sk-toggleable__control:checked~label.sk-toggleable__label {background-color: #d4ebff;}#sk-container-id-2 div.sk-label input.sk-toggleable__control:checked~label.sk-toggleable__label {background-color: #d4ebff;}#sk-container-id-2 input.sk-hidden--visually {border: 0;clip: rect(1px 1px 1px 1px);clip: rect(1px, 1px, 1px, 1px);height: 1px;margin: -1px;overflow: hidden;padding: 0;position: absolute;width: 1px;}#sk-container-id-2 div.sk-estimator {font-family: monospace;background-color: #f0f8ff;border: 1px dotted black;border-radius: 0.25em;box-sizing: border-box;margin-bottom: 0.5em;}#sk-container-id-2 div.sk-estimator:hover {background-color: #d4ebff;}#sk-container-id-2 div.sk-parallel-item::after {content: \"\";width: 100%;border-bottom: 1px solid gray;flex-grow: 1;}#sk-container-id-2 div.sk-label:hover label.sk-toggleable__label {background-color: #d4ebff;}#sk-container-id-2 div.sk-serial::before {content: \"\";position: absolute;border-left: 1px solid gray;box-sizing: border-box;top: 0;bottom: 0;left: 50%;z-index: 0;}#sk-container-id-2 div.sk-serial {display: flex;flex-direction: column;align-items: center;background-color: white;padding-right: 0.2em;padding-left: 0.2em;position: relative;}#sk-container-id-2 div.sk-item {position: relative;z-index: 1;}#sk-container-id-2 div.sk-parallel {display: flex;align-items: stretch;justify-content: center;background-color: white;position: relative;}#sk-container-id-2 div.sk-item::before, #sk-container-id-2 div.sk-parallel-item::before {content: \"\";position: absolute;border-left: 1px solid gray;box-sizing: border-box;top: 0;bottom: 0;left: 50%;z-index: -1;}#sk-container-id-2 div.sk-parallel-item {display: flex;flex-direction: column;z-index: 1;position: relative;background-color: white;}#sk-container-id-2 div.sk-parallel-item:first-child::after {align-self: flex-end;width: 50%;}#sk-container-id-2 div.sk-parallel-item:last-child::after {align-self: flex-start;width: 50%;}#sk-container-id-2 div.sk-parallel-item:only-child::after {width: 0;}#sk-container-id-2 div.sk-dashed-wrapped {border: 1px dashed gray;margin: 0 0.4em 0.5em 0.4em;box-sizing: border-box;padding-bottom: 0.4em;background-color: white;}#sk-container-id-2 div.sk-label label {font-family: monospace;font-weight: bold;display: inline-block;line-height: 1.2em;}#sk-container-id-2 div.sk-label-container {text-align: center;}#sk-container-id-2 div.sk-container {/* jupyter's `normalize.less` sets `[hidden] { display: none; }` but bootstrap.min.css set `[hidden] { display: none !important; }` so we also need the `!important` here to be able to override the default hidden behavior on the sphinx rendered scikit-learn.org. See: https://github.com/scikit-learn/scikit-learn/issues/21755 */display: inline-block !important;position: relative;}#sk-container-id-2 div.sk-text-repr-fallback {display: none;}</style><div id=\"sk-container-id-2\" class=\"sk-top-container\"><div class=\"sk-text-repr-fallback\"><pre>Pipeline(steps=[(&#x27;all_column_preprocessing&#x27;,\n",
       "                 ColumnTransformer(transformers=[(&#x27;numeric_preprocessing&#x27;,\n",
       "                                                  Pipeline(steps=[(&#x27;scaler&#x27;,\n",
       "                                                                   StandardScaler())]),\n",
       "                                                  [&#x27;population_density&#x27;]),\n",
       "                                                 (&#x27;categorical_preprocessing&#x27;,\n",
       "                                                  Pipeline(steps=[(&#x27;onehot&#x27;,\n",
       "                                                                   OneHotEncoder())]),\n",
       "                                                  Index([&#x27;area_cluster&#x27;, &#x27;segment&#x27;, &#x27;model&#x27;, &#x27;fuel_type&#x27;, &#x27;max_torque&#x27;,\n",
       "       &#x27;max_power&#x27;, &#x27;engine_type&#x27;, &#x27;airbags&#x27;, &#x27;is_...\n",
       "       &#x27;transmission_type&#x27;, &#x27;steering_type&#x27;, &#x27;height&#x27;, &#x27;is_front_fog_lights&#x27;,\n",
       "       &#x27;is_rear_window_wiper&#x27;, &#x27;is_rear_window_washer&#x27;,\n",
       "       &#x27;is_rear_window_defogger&#x27;, &#x27;is_brake_assist&#x27;, &#x27;is_power_door_locks&#x27;,\n",
       "       &#x27;is_central_locking&#x27;, &#x27;is_power_steering&#x27;,\n",
       "       &#x27;is_driver_seat_height_adjustable&#x27;, &#x27;is_day_night_rear_view_mirror&#x27;,\n",
       "       &#x27;is_ecw&#x27;, &#x27;is_speed_alert&#x27;],\n",
       "      dtype=&#x27;object&#x27;))])),\n",
       "                (&#x27;randomforest&#x27;, RandomForestClassifier())])</pre><b>In a Jupyter environment, please rerun this cell to show the HTML representation or trust the notebook. <br />On GitHub, the HTML representation is unable to render, please try loading this page with nbviewer.org.</b></div><div class=\"sk-container\" hidden><div class=\"sk-item sk-dashed-wrapped\"><div class=\"sk-label-container\"><div class=\"sk-label sk-toggleable\"><input class=\"sk-toggleable__control sk-hidden--visually\" id=\"sk-estimator-id-8\" type=\"checkbox\" ><label for=\"sk-estimator-id-8\" class=\"sk-toggleable__label sk-toggleable__label-arrow\">Pipeline</label><div class=\"sk-toggleable__content\"><pre>Pipeline(steps=[(&#x27;all_column_preprocessing&#x27;,\n",
       "                 ColumnTransformer(transformers=[(&#x27;numeric_preprocessing&#x27;,\n",
       "                                                  Pipeline(steps=[(&#x27;scaler&#x27;,\n",
       "                                                                   StandardScaler())]),\n",
       "                                                  [&#x27;population_density&#x27;]),\n",
       "                                                 (&#x27;categorical_preprocessing&#x27;,\n",
       "                                                  Pipeline(steps=[(&#x27;onehot&#x27;,\n",
       "                                                                   OneHotEncoder())]),\n",
       "                                                  Index([&#x27;area_cluster&#x27;, &#x27;segment&#x27;, &#x27;model&#x27;, &#x27;fuel_type&#x27;, &#x27;max_torque&#x27;,\n",
       "       &#x27;max_power&#x27;, &#x27;engine_type&#x27;, &#x27;airbags&#x27;, &#x27;is_...\n",
       "       &#x27;transmission_type&#x27;, &#x27;steering_type&#x27;, &#x27;height&#x27;, &#x27;is_front_fog_lights&#x27;,\n",
       "       &#x27;is_rear_window_wiper&#x27;, &#x27;is_rear_window_washer&#x27;,\n",
       "       &#x27;is_rear_window_defogger&#x27;, &#x27;is_brake_assist&#x27;, &#x27;is_power_door_locks&#x27;,\n",
       "       &#x27;is_central_locking&#x27;, &#x27;is_power_steering&#x27;,\n",
       "       &#x27;is_driver_seat_height_adjustable&#x27;, &#x27;is_day_night_rear_view_mirror&#x27;,\n",
       "       &#x27;is_ecw&#x27;, &#x27;is_speed_alert&#x27;],\n",
       "      dtype=&#x27;object&#x27;))])),\n",
       "                (&#x27;randomforest&#x27;, RandomForestClassifier())])</pre></div></div></div><div class=\"sk-serial\"><div class=\"sk-item sk-dashed-wrapped\"><div class=\"sk-label-container\"><div class=\"sk-label sk-toggleable\"><input class=\"sk-toggleable__control sk-hidden--visually\" id=\"sk-estimator-id-9\" type=\"checkbox\" ><label for=\"sk-estimator-id-9\" class=\"sk-toggleable__label sk-toggleable__label-arrow\">all_column_preprocessing: ColumnTransformer</label><div class=\"sk-toggleable__content\"><pre>ColumnTransformer(transformers=[(&#x27;numeric_preprocessing&#x27;,\n",
       "                                 Pipeline(steps=[(&#x27;scaler&#x27;, StandardScaler())]),\n",
       "                                 [&#x27;population_density&#x27;]),\n",
       "                                (&#x27;categorical_preprocessing&#x27;,\n",
       "                                 Pipeline(steps=[(&#x27;onehot&#x27;, OneHotEncoder())]),\n",
       "                                 Index([&#x27;area_cluster&#x27;, &#x27;segment&#x27;, &#x27;model&#x27;, &#x27;fuel_type&#x27;, &#x27;max_torque&#x27;,\n",
       "       &#x27;max_power&#x27;, &#x27;engine_type&#x27;, &#x27;airbags&#x27;, &#x27;is_esc&#x27;,\n",
       "       &#x27;is_adjustable_steering&#x27;, &#x27;is_tpms&#x27;, &#x27;is_...\n",
       "       &#x27;is_parking_camera&#x27;, &#x27;rear_brakes_type&#x27;, &#x27;displacement&#x27;,\n",
       "       &#x27;transmission_type&#x27;, &#x27;steering_type&#x27;, &#x27;height&#x27;, &#x27;is_front_fog_lights&#x27;,\n",
       "       &#x27;is_rear_window_wiper&#x27;, &#x27;is_rear_window_washer&#x27;,\n",
       "       &#x27;is_rear_window_defogger&#x27;, &#x27;is_brake_assist&#x27;, &#x27;is_power_door_locks&#x27;,\n",
       "       &#x27;is_central_locking&#x27;, &#x27;is_power_steering&#x27;,\n",
       "       &#x27;is_driver_seat_height_adjustable&#x27;, &#x27;is_day_night_rear_view_mirror&#x27;,\n",
       "       &#x27;is_ecw&#x27;, &#x27;is_speed_alert&#x27;],\n",
       "      dtype=&#x27;object&#x27;))])</pre></div></div></div><div class=\"sk-parallel\"><div class=\"sk-parallel-item\"><div class=\"sk-item\"><div class=\"sk-label-container\"><div class=\"sk-label sk-toggleable\"><input class=\"sk-toggleable__control sk-hidden--visually\" id=\"sk-estimator-id-10\" type=\"checkbox\" ><label for=\"sk-estimator-id-10\" class=\"sk-toggleable__label sk-toggleable__label-arrow\">numeric_preprocessing</label><div class=\"sk-toggleable__content\"><pre>[&#x27;population_density&#x27;]</pre></div></div></div><div class=\"sk-serial\"><div class=\"sk-item\"><div class=\"sk-serial\"><div class=\"sk-item\"><div class=\"sk-estimator sk-toggleable\"><input class=\"sk-toggleable__control sk-hidden--visually\" id=\"sk-estimator-id-11\" type=\"checkbox\" ><label for=\"sk-estimator-id-11\" class=\"sk-toggleable__label sk-toggleable__label-arrow\">StandardScaler</label><div class=\"sk-toggleable__content\"><pre>StandardScaler()</pre></div></div></div></div></div></div></div></div><div class=\"sk-parallel-item\"><div class=\"sk-item\"><div class=\"sk-label-container\"><div class=\"sk-label sk-toggleable\"><input class=\"sk-toggleable__control sk-hidden--visually\" id=\"sk-estimator-id-12\" type=\"checkbox\" ><label for=\"sk-estimator-id-12\" class=\"sk-toggleable__label sk-toggleable__label-arrow\">categorical_preprocessing</label><div class=\"sk-toggleable__content\"><pre>Index([&#x27;area_cluster&#x27;, &#x27;segment&#x27;, &#x27;model&#x27;, &#x27;fuel_type&#x27;, &#x27;max_torque&#x27;,\n",
       "       &#x27;max_power&#x27;, &#x27;engine_type&#x27;, &#x27;airbags&#x27;, &#x27;is_esc&#x27;,\n",
       "       &#x27;is_adjustable_steering&#x27;, &#x27;is_tpms&#x27;, &#x27;is_parking_sensors&#x27;,\n",
       "       &#x27;is_parking_camera&#x27;, &#x27;rear_brakes_type&#x27;, &#x27;displacement&#x27;,\n",
       "       &#x27;transmission_type&#x27;, &#x27;steering_type&#x27;, &#x27;height&#x27;, &#x27;is_front_fog_lights&#x27;,\n",
       "       &#x27;is_rear_window_wiper&#x27;, &#x27;is_rear_window_washer&#x27;,\n",
       "       &#x27;is_rear_window_defogger&#x27;, &#x27;is_brake_assist&#x27;, &#x27;is_power_door_locks&#x27;,\n",
       "       &#x27;is_central_locking&#x27;, &#x27;is_power_steering&#x27;,\n",
       "       &#x27;is_driver_seat_height_adjustable&#x27;, &#x27;is_day_night_rear_view_mirror&#x27;,\n",
       "       &#x27;is_ecw&#x27;, &#x27;is_speed_alert&#x27;],\n",
       "      dtype=&#x27;object&#x27;)</pre></div></div></div><div class=\"sk-serial\"><div class=\"sk-item\"><div class=\"sk-serial\"><div class=\"sk-item\"><div class=\"sk-estimator sk-toggleable\"><input class=\"sk-toggleable__control sk-hidden--visually\" id=\"sk-estimator-id-13\" type=\"checkbox\" ><label for=\"sk-estimator-id-13\" class=\"sk-toggleable__label sk-toggleable__label-arrow\">OneHotEncoder</label><div class=\"sk-toggleable__content\"><pre>OneHotEncoder()</pre></div></div></div></div></div></div></div></div></div></div><div class=\"sk-item\"><div class=\"sk-estimator sk-toggleable\"><input class=\"sk-toggleable__control sk-hidden--visually\" id=\"sk-estimator-id-14\" type=\"checkbox\" ><label for=\"sk-estimator-id-14\" class=\"sk-toggleable__label sk-toggleable__label-arrow\">RandomForestClassifier</label><div class=\"sk-toggleable__content\"><pre>RandomForestClassifier()</pre></div></div></div></div></div></div></div>"
      ],
      "text/plain": [
       "Pipeline(steps=[('all_column_preprocessing',\n",
       "                 ColumnTransformer(transformers=[('numeric_preprocessing',\n",
       "                                                  Pipeline(steps=[('scaler',\n",
       "                                                                   StandardScaler())]),\n",
       "                                                  ['population_density']),\n",
       "                                                 ('categorical_preprocessing',\n",
       "                                                  Pipeline(steps=[('onehot',\n",
       "                                                                   OneHotEncoder())]),\n",
       "                                                  Index(['area_cluster', 'segment', 'model', 'fuel_type', 'max_torque',\n",
       "       'max_power', 'engine_type', 'airbags', 'is_...\n",
       "       'transmission_type', 'steering_type', 'height', 'is_front_fog_lights',\n",
       "       'is_rear_window_wiper', 'is_rear_window_washer',\n",
       "       'is_rear_window_defogger', 'is_brake_assist', 'is_power_door_locks',\n",
       "       'is_central_locking', 'is_power_steering',\n",
       "       'is_driver_seat_height_adjustable', 'is_day_night_rear_view_mirror',\n",
       "       'is_ecw', 'is_speed_alert'],\n",
       "      dtype='object'))])),\n",
       "                ('randomforest', RandomForestClassifier())])"
      ]
     },
     "execution_count": 67,
     "metadata": {},
     "output_type": "execute_result"
    }
   ],
   "source": [
    "ml_pipeline.fit(x_train, y_train)"
   ]
  },
  {
   "cell_type": "markdown",
   "id": "67e303c8-c74e-4ac9-b43f-13fd5acf04b5",
   "metadata": {},
   "source": [
    "## Predictions"
   ]
  },
  {
   "cell_type": "code",
   "execution_count": 68,
   "id": "11e7db7f-c786-4625-913e-150881884a7e",
   "metadata": {},
   "outputs": [],
   "source": [
    "pred = ml_pipeline.predict(x_test)"
   ]
  },
  {
   "cell_type": "markdown",
   "id": "a853affa-fdbf-4849-96f9-5a1a99d30a2e",
   "metadata": {},
   "source": [
    "## Confusion Matrix"
   ]
  },
  {
   "cell_type": "code",
   "execution_count": 69,
   "id": "0b7943ad-e400-424c-b484-b44a6372a525",
   "metadata": {},
   "outputs": [
    {
     "name": "stdout",
     "output_type": "stream",
     "text": [
      "[[415 710]\n",
      " [367 757]]\n"
     ]
    }
   ],
   "source": [
    "print (confusion_matrix(y_test, pred))"
   ]
  },
  {
   "cell_type": "code",
   "execution_count": 70,
   "id": "5d82314e-0dd8-49a7-a5f7-01bfce528f10",
   "metadata": {},
   "outputs": [
    {
     "name": "stdout",
     "output_type": "stream",
     "text": [
      "Metrics for Decison Tree : accuracy- 0.5211204979991108, recall- 0.6734875444839857, precision- 0.5160190865712339\n"
     ]
    }
   ],
   "source": [
    "# Evaluate Performance of the Model\n",
    "accuracy = accuracy_score(y_test,pred)\n",
    "precision = precision_score(y_test,pred)\n",
    "recall = recall_score(y_test,pred)\n",
    "print(f'Metrics for Decison Tree : accuracy- {accuracy}, recall- {recall}, precision- {precision}')"
   ]
  },
  {
   "cell_type": "markdown",
   "id": "774665fd-94d0-4ea8-97eb-fd5362fc9ac2",
   "metadata": {},
   "source": [
    "### 2. Oversampling the Minority Class"
   ]
  },
  {
   "cell_type": "code",
   "execution_count": 71,
   "id": "d317dfca-a5a9-4188-a2d1-eb47051d782c",
   "metadata": {},
   "outputs": [
    {
     "data": {
      "text/plain": [
       "(54844, 3748)"
      ]
     },
     "execution_count": 71,
     "metadata": {},
     "output_type": "execute_result"
    }
   ],
   "source": [
    "count_class_0, count_class_1"
   ]
  },
  {
   "cell_type": "code",
   "execution_count": 72,
   "id": "696a391e-080c-4ffa-b79a-4940b1c96533",
   "metadata": {},
   "outputs": [],
   "source": [
    "# Class Counts\n",
    "count_class_0, count_class_1 = df_copy.is_claim.value_counts()\n",
    "\n",
    "# Divide by Class\n",
    "df_class_0 = df_copy[df_copy['is_claim'] == 0]\n",
    "df_class_1 = df_copy[df_copy['is_claim'] == 1]"
   ]
  },
  {
   "cell_type": "code",
   "execution_count": 73,
   "id": "1342cd40-f136-40b9-9f3d-720996cc6bcb",
   "metadata": {},
   "outputs": [],
   "source": [
    "#Randomly Sampling Class1 data equal to class2 data with 'Random Sampling with Replacement'\n",
    "df_class_1_oversample = df_class_1.sample(count_class_0,replace=True)"
   ]
  },
  {
   "cell_type": "code",
   "execution_count": 74,
   "id": "8d9d3c94-1555-41a5-b5ed-63a313256cce",
   "metadata": {},
   "outputs": [],
   "source": [
    "Oversampled_df = pd.concat([df_class_0, df_class_1_oversample ],axis=0)"
   ]
  },
  {
   "cell_type": "code",
   "execution_count": 75,
   "id": "fc356b65-e842-454f-8757-d4659d7a0b6b",
   "metadata": {},
   "outputs": [
    {
     "data": {
      "text/plain": [
       "(109688, 35)"
      ]
     },
     "execution_count": 75,
     "metadata": {},
     "output_type": "execute_result"
    }
   ],
   "source": [
    "Oversampled_df.shape"
   ]
  },
  {
   "cell_type": "markdown",
   "id": "3dbbbd06-d0e6-468f-b2ca-0dccae082039",
   "metadata": {},
   "source": [
    "#### Feature and Target Selection"
   ]
  },
  {
   "cell_type": "code",
   "execution_count": 76,
   "id": "90d9068e-37b2-4a3a-8d7d-d9b23efcd6a4",
   "metadata": {},
   "outputs": [],
   "source": [
    "X = Oversampled_df.drop('is_claim',axis=1)\n",
    "y = Oversampled_df['is_claim']"
   ]
  },
  {
   "cell_type": "markdown",
   "id": "61ee3b94-2dc2-430c-a571-cc9b6a9f7f38",
   "metadata": {},
   "source": [
    "#### Train Test SPlit"
   ]
  },
  {
   "cell_type": "code",
   "execution_count": 77,
   "id": "fbc511f1-a72d-4271-a69a-9b4901f26b69",
   "metadata": {},
   "outputs": [],
   "source": [
    "from sklearn.model_selection import train_test_split\n",
    "x_train,x_test,y_train,y_test = train_test_split(X,y,test_size=0.3,random_state=42, stratify=y)"
   ]
  },
  {
   "cell_type": "markdown",
   "id": "b62a6605-7c54-48a7-abb6-a728329972d7",
   "metadata": {},
   "source": [
    "#### Model Training"
   ]
  },
  {
   "cell_type": "code",
   "execution_count": 78,
   "id": "b6ff5189-4d71-4862-b8bb-f1265d4d337d",
   "metadata": {},
   "outputs": [
    {
     "data": {
      "text/html": [
       "<style>#sk-container-id-3 {color: black;background-color: white;}#sk-container-id-3 pre{padding: 0;}#sk-container-id-3 div.sk-toggleable {background-color: white;}#sk-container-id-3 label.sk-toggleable__label {cursor: pointer;display: block;width: 100%;margin-bottom: 0;padding: 0.3em;box-sizing: border-box;text-align: center;}#sk-container-id-3 label.sk-toggleable__label-arrow:before {content: \"▸\";float: left;margin-right: 0.25em;color: #696969;}#sk-container-id-3 label.sk-toggleable__label-arrow:hover:before {color: black;}#sk-container-id-3 div.sk-estimator:hover label.sk-toggleable__label-arrow:before {color: black;}#sk-container-id-3 div.sk-toggleable__content {max-height: 0;max-width: 0;overflow: hidden;text-align: left;background-color: #f0f8ff;}#sk-container-id-3 div.sk-toggleable__content pre {margin: 0.2em;color: black;border-radius: 0.25em;background-color: #f0f8ff;}#sk-container-id-3 input.sk-toggleable__control:checked~div.sk-toggleable__content {max-height: 200px;max-width: 100%;overflow: auto;}#sk-container-id-3 input.sk-toggleable__control:checked~label.sk-toggleable__label-arrow:before {content: \"▾\";}#sk-container-id-3 div.sk-estimator input.sk-toggleable__control:checked~label.sk-toggleable__label {background-color: #d4ebff;}#sk-container-id-3 div.sk-label input.sk-toggleable__control:checked~label.sk-toggleable__label {background-color: #d4ebff;}#sk-container-id-3 input.sk-hidden--visually {border: 0;clip: rect(1px 1px 1px 1px);clip: rect(1px, 1px, 1px, 1px);height: 1px;margin: -1px;overflow: hidden;padding: 0;position: absolute;width: 1px;}#sk-container-id-3 div.sk-estimator {font-family: monospace;background-color: #f0f8ff;border: 1px dotted black;border-radius: 0.25em;box-sizing: border-box;margin-bottom: 0.5em;}#sk-container-id-3 div.sk-estimator:hover {background-color: #d4ebff;}#sk-container-id-3 div.sk-parallel-item::after {content: \"\";width: 100%;border-bottom: 1px solid gray;flex-grow: 1;}#sk-container-id-3 div.sk-label:hover label.sk-toggleable__label {background-color: #d4ebff;}#sk-container-id-3 div.sk-serial::before {content: \"\";position: absolute;border-left: 1px solid gray;box-sizing: border-box;top: 0;bottom: 0;left: 50%;z-index: 0;}#sk-container-id-3 div.sk-serial {display: flex;flex-direction: column;align-items: center;background-color: white;padding-right: 0.2em;padding-left: 0.2em;position: relative;}#sk-container-id-3 div.sk-item {position: relative;z-index: 1;}#sk-container-id-3 div.sk-parallel {display: flex;align-items: stretch;justify-content: center;background-color: white;position: relative;}#sk-container-id-3 div.sk-item::before, #sk-container-id-3 div.sk-parallel-item::before {content: \"\";position: absolute;border-left: 1px solid gray;box-sizing: border-box;top: 0;bottom: 0;left: 50%;z-index: -1;}#sk-container-id-3 div.sk-parallel-item {display: flex;flex-direction: column;z-index: 1;position: relative;background-color: white;}#sk-container-id-3 div.sk-parallel-item:first-child::after {align-self: flex-end;width: 50%;}#sk-container-id-3 div.sk-parallel-item:last-child::after {align-self: flex-start;width: 50%;}#sk-container-id-3 div.sk-parallel-item:only-child::after {width: 0;}#sk-container-id-3 div.sk-dashed-wrapped {border: 1px dashed gray;margin: 0 0.4em 0.5em 0.4em;box-sizing: border-box;padding-bottom: 0.4em;background-color: white;}#sk-container-id-3 div.sk-label label {font-family: monospace;font-weight: bold;display: inline-block;line-height: 1.2em;}#sk-container-id-3 div.sk-label-container {text-align: center;}#sk-container-id-3 div.sk-container {/* jupyter's `normalize.less` sets `[hidden] { display: none; }` but bootstrap.min.css set `[hidden] { display: none !important; }` so we also need the `!important` here to be able to override the default hidden behavior on the sphinx rendered scikit-learn.org. See: https://github.com/scikit-learn/scikit-learn/issues/21755 */display: inline-block !important;position: relative;}#sk-container-id-3 div.sk-text-repr-fallback {display: none;}</style><div id=\"sk-container-id-3\" class=\"sk-top-container\"><div class=\"sk-text-repr-fallback\"><pre>Pipeline(steps=[(&#x27;all_column_preprocessing&#x27;,\n",
       "                 ColumnTransformer(transformers=[(&#x27;numeric_preprocessing&#x27;,\n",
       "                                                  Pipeline(steps=[(&#x27;scaler&#x27;,\n",
       "                                                                   StandardScaler())]),\n",
       "                                                  [&#x27;population_density&#x27;]),\n",
       "                                                 (&#x27;categorical_preprocessing&#x27;,\n",
       "                                                  Pipeline(steps=[(&#x27;onehot&#x27;,\n",
       "                                                                   OneHotEncoder())]),\n",
       "                                                  Index([&#x27;area_cluster&#x27;, &#x27;segment&#x27;, &#x27;model&#x27;, &#x27;fuel_type&#x27;, &#x27;max_torque&#x27;,\n",
       "       &#x27;max_power&#x27;, &#x27;engine_type&#x27;, &#x27;airbags&#x27;, &#x27;is_...\n",
       "       &#x27;transmission_type&#x27;, &#x27;steering_type&#x27;, &#x27;height&#x27;, &#x27;is_front_fog_lights&#x27;,\n",
       "       &#x27;is_rear_window_wiper&#x27;, &#x27;is_rear_window_washer&#x27;,\n",
       "       &#x27;is_rear_window_defogger&#x27;, &#x27;is_brake_assist&#x27;, &#x27;is_power_door_locks&#x27;,\n",
       "       &#x27;is_central_locking&#x27;, &#x27;is_power_steering&#x27;,\n",
       "       &#x27;is_driver_seat_height_adjustable&#x27;, &#x27;is_day_night_rear_view_mirror&#x27;,\n",
       "       &#x27;is_ecw&#x27;, &#x27;is_speed_alert&#x27;],\n",
       "      dtype=&#x27;object&#x27;))])),\n",
       "                (&#x27;randomforest&#x27;, RandomForestClassifier())])</pre><b>In a Jupyter environment, please rerun this cell to show the HTML representation or trust the notebook. <br />On GitHub, the HTML representation is unable to render, please try loading this page with nbviewer.org.</b></div><div class=\"sk-container\" hidden><div class=\"sk-item sk-dashed-wrapped\"><div class=\"sk-label-container\"><div class=\"sk-label sk-toggleable\"><input class=\"sk-toggleable__control sk-hidden--visually\" id=\"sk-estimator-id-15\" type=\"checkbox\" ><label for=\"sk-estimator-id-15\" class=\"sk-toggleable__label sk-toggleable__label-arrow\">Pipeline</label><div class=\"sk-toggleable__content\"><pre>Pipeline(steps=[(&#x27;all_column_preprocessing&#x27;,\n",
       "                 ColumnTransformer(transformers=[(&#x27;numeric_preprocessing&#x27;,\n",
       "                                                  Pipeline(steps=[(&#x27;scaler&#x27;,\n",
       "                                                                   StandardScaler())]),\n",
       "                                                  [&#x27;population_density&#x27;]),\n",
       "                                                 (&#x27;categorical_preprocessing&#x27;,\n",
       "                                                  Pipeline(steps=[(&#x27;onehot&#x27;,\n",
       "                                                                   OneHotEncoder())]),\n",
       "                                                  Index([&#x27;area_cluster&#x27;, &#x27;segment&#x27;, &#x27;model&#x27;, &#x27;fuel_type&#x27;, &#x27;max_torque&#x27;,\n",
       "       &#x27;max_power&#x27;, &#x27;engine_type&#x27;, &#x27;airbags&#x27;, &#x27;is_...\n",
       "       &#x27;transmission_type&#x27;, &#x27;steering_type&#x27;, &#x27;height&#x27;, &#x27;is_front_fog_lights&#x27;,\n",
       "       &#x27;is_rear_window_wiper&#x27;, &#x27;is_rear_window_washer&#x27;,\n",
       "       &#x27;is_rear_window_defogger&#x27;, &#x27;is_brake_assist&#x27;, &#x27;is_power_door_locks&#x27;,\n",
       "       &#x27;is_central_locking&#x27;, &#x27;is_power_steering&#x27;,\n",
       "       &#x27;is_driver_seat_height_adjustable&#x27;, &#x27;is_day_night_rear_view_mirror&#x27;,\n",
       "       &#x27;is_ecw&#x27;, &#x27;is_speed_alert&#x27;],\n",
       "      dtype=&#x27;object&#x27;))])),\n",
       "                (&#x27;randomforest&#x27;, RandomForestClassifier())])</pre></div></div></div><div class=\"sk-serial\"><div class=\"sk-item sk-dashed-wrapped\"><div class=\"sk-label-container\"><div class=\"sk-label sk-toggleable\"><input class=\"sk-toggleable__control sk-hidden--visually\" id=\"sk-estimator-id-16\" type=\"checkbox\" ><label for=\"sk-estimator-id-16\" class=\"sk-toggleable__label sk-toggleable__label-arrow\">all_column_preprocessing: ColumnTransformer</label><div class=\"sk-toggleable__content\"><pre>ColumnTransformer(transformers=[(&#x27;numeric_preprocessing&#x27;,\n",
       "                                 Pipeline(steps=[(&#x27;scaler&#x27;, StandardScaler())]),\n",
       "                                 [&#x27;population_density&#x27;]),\n",
       "                                (&#x27;categorical_preprocessing&#x27;,\n",
       "                                 Pipeline(steps=[(&#x27;onehot&#x27;, OneHotEncoder())]),\n",
       "                                 Index([&#x27;area_cluster&#x27;, &#x27;segment&#x27;, &#x27;model&#x27;, &#x27;fuel_type&#x27;, &#x27;max_torque&#x27;,\n",
       "       &#x27;max_power&#x27;, &#x27;engine_type&#x27;, &#x27;airbags&#x27;, &#x27;is_esc&#x27;,\n",
       "       &#x27;is_adjustable_steering&#x27;, &#x27;is_tpms&#x27;, &#x27;is_...\n",
       "       &#x27;is_parking_camera&#x27;, &#x27;rear_brakes_type&#x27;, &#x27;displacement&#x27;,\n",
       "       &#x27;transmission_type&#x27;, &#x27;steering_type&#x27;, &#x27;height&#x27;, &#x27;is_front_fog_lights&#x27;,\n",
       "       &#x27;is_rear_window_wiper&#x27;, &#x27;is_rear_window_washer&#x27;,\n",
       "       &#x27;is_rear_window_defogger&#x27;, &#x27;is_brake_assist&#x27;, &#x27;is_power_door_locks&#x27;,\n",
       "       &#x27;is_central_locking&#x27;, &#x27;is_power_steering&#x27;,\n",
       "       &#x27;is_driver_seat_height_adjustable&#x27;, &#x27;is_day_night_rear_view_mirror&#x27;,\n",
       "       &#x27;is_ecw&#x27;, &#x27;is_speed_alert&#x27;],\n",
       "      dtype=&#x27;object&#x27;))])</pre></div></div></div><div class=\"sk-parallel\"><div class=\"sk-parallel-item\"><div class=\"sk-item\"><div class=\"sk-label-container\"><div class=\"sk-label sk-toggleable\"><input class=\"sk-toggleable__control sk-hidden--visually\" id=\"sk-estimator-id-17\" type=\"checkbox\" ><label for=\"sk-estimator-id-17\" class=\"sk-toggleable__label sk-toggleable__label-arrow\">numeric_preprocessing</label><div class=\"sk-toggleable__content\"><pre>[&#x27;population_density&#x27;]</pre></div></div></div><div class=\"sk-serial\"><div class=\"sk-item\"><div class=\"sk-serial\"><div class=\"sk-item\"><div class=\"sk-estimator sk-toggleable\"><input class=\"sk-toggleable__control sk-hidden--visually\" id=\"sk-estimator-id-18\" type=\"checkbox\" ><label for=\"sk-estimator-id-18\" class=\"sk-toggleable__label sk-toggleable__label-arrow\">StandardScaler</label><div class=\"sk-toggleable__content\"><pre>StandardScaler()</pre></div></div></div></div></div></div></div></div><div class=\"sk-parallel-item\"><div class=\"sk-item\"><div class=\"sk-label-container\"><div class=\"sk-label sk-toggleable\"><input class=\"sk-toggleable__control sk-hidden--visually\" id=\"sk-estimator-id-19\" type=\"checkbox\" ><label for=\"sk-estimator-id-19\" class=\"sk-toggleable__label sk-toggleable__label-arrow\">categorical_preprocessing</label><div class=\"sk-toggleable__content\"><pre>Index([&#x27;area_cluster&#x27;, &#x27;segment&#x27;, &#x27;model&#x27;, &#x27;fuel_type&#x27;, &#x27;max_torque&#x27;,\n",
       "       &#x27;max_power&#x27;, &#x27;engine_type&#x27;, &#x27;airbags&#x27;, &#x27;is_esc&#x27;,\n",
       "       &#x27;is_adjustable_steering&#x27;, &#x27;is_tpms&#x27;, &#x27;is_parking_sensors&#x27;,\n",
       "       &#x27;is_parking_camera&#x27;, &#x27;rear_brakes_type&#x27;, &#x27;displacement&#x27;,\n",
       "       &#x27;transmission_type&#x27;, &#x27;steering_type&#x27;, &#x27;height&#x27;, &#x27;is_front_fog_lights&#x27;,\n",
       "       &#x27;is_rear_window_wiper&#x27;, &#x27;is_rear_window_washer&#x27;,\n",
       "       &#x27;is_rear_window_defogger&#x27;, &#x27;is_brake_assist&#x27;, &#x27;is_power_door_locks&#x27;,\n",
       "       &#x27;is_central_locking&#x27;, &#x27;is_power_steering&#x27;,\n",
       "       &#x27;is_driver_seat_height_adjustable&#x27;, &#x27;is_day_night_rear_view_mirror&#x27;,\n",
       "       &#x27;is_ecw&#x27;, &#x27;is_speed_alert&#x27;],\n",
       "      dtype=&#x27;object&#x27;)</pre></div></div></div><div class=\"sk-serial\"><div class=\"sk-item\"><div class=\"sk-serial\"><div class=\"sk-item\"><div class=\"sk-estimator sk-toggleable\"><input class=\"sk-toggleable__control sk-hidden--visually\" id=\"sk-estimator-id-20\" type=\"checkbox\" ><label for=\"sk-estimator-id-20\" class=\"sk-toggleable__label sk-toggleable__label-arrow\">OneHotEncoder</label><div class=\"sk-toggleable__content\"><pre>OneHotEncoder()</pre></div></div></div></div></div></div></div></div></div></div><div class=\"sk-item\"><div class=\"sk-estimator sk-toggleable\"><input class=\"sk-toggleable__control sk-hidden--visually\" id=\"sk-estimator-id-21\" type=\"checkbox\" ><label for=\"sk-estimator-id-21\" class=\"sk-toggleable__label sk-toggleable__label-arrow\">RandomForestClassifier</label><div class=\"sk-toggleable__content\"><pre>RandomForestClassifier()</pre></div></div></div></div></div></div></div>"
      ],
      "text/plain": [
       "Pipeline(steps=[('all_column_preprocessing',\n",
       "                 ColumnTransformer(transformers=[('numeric_preprocessing',\n",
       "                                                  Pipeline(steps=[('scaler',\n",
       "                                                                   StandardScaler())]),\n",
       "                                                  ['population_density']),\n",
       "                                                 ('categorical_preprocessing',\n",
       "                                                  Pipeline(steps=[('onehot',\n",
       "                                                                   OneHotEncoder())]),\n",
       "                                                  Index(['area_cluster', 'segment', 'model', 'fuel_type', 'max_torque',\n",
       "       'max_power', 'engine_type', 'airbags', 'is_...\n",
       "       'transmission_type', 'steering_type', 'height', 'is_front_fog_lights',\n",
       "       'is_rear_window_wiper', 'is_rear_window_washer',\n",
       "       'is_rear_window_defogger', 'is_brake_assist', 'is_power_door_locks',\n",
       "       'is_central_locking', 'is_power_steering',\n",
       "       'is_driver_seat_height_adjustable', 'is_day_night_rear_view_mirror',\n",
       "       'is_ecw', 'is_speed_alert'],\n",
       "      dtype='object'))])),\n",
       "                ('randomforest', RandomForestClassifier())])"
      ]
     },
     "execution_count": 78,
     "metadata": {},
     "output_type": "execute_result"
    }
   ],
   "source": [
    "ml_pipeline.fit(x_train, y_train)"
   ]
  },
  {
   "cell_type": "markdown",
   "id": "3338587b-0ecd-48ec-a2b1-8f004b763c80",
   "metadata": {},
   "source": [
    "#### Prediction"
   ]
  },
  {
   "cell_type": "code",
   "execution_count": 79,
   "id": "90ca26cb-34bc-4839-a3c8-23db355dfe4e",
   "metadata": {},
   "outputs": [],
   "source": [
    "pred = ml_pipeline.predict(x_test)"
   ]
  },
  {
   "cell_type": "markdown",
   "id": "18dbfb5c-5afa-4d37-8200-1ffe18d8e004",
   "metadata": {},
   "source": [
    "#### Confusion Matrix"
   ]
  },
  {
   "cell_type": "code",
   "execution_count": 80,
   "id": "b37c5dbc-ae52-4305-bafd-b6c1e3f44657",
   "metadata": {},
   "outputs": [
    {
     "name": "stdout",
     "output_type": "stream",
     "text": [
      "[[ 8207  8247]\n",
      " [ 6288 10165]]\n"
     ]
    }
   ],
   "source": [
    "print (confusion_matrix(y_test, pred))"
   ]
  },
  {
   "cell_type": "code",
   "execution_count": 158,
   "id": "c0ee1289-4b4a-450d-982a-74e2c8d33fcb",
   "metadata": {},
   "outputs": [
    {
     "name": "stdout",
     "output_type": "stream",
     "text": [
      "              precision    recall  f1-score   support\n",
      "\n",
      "           0       0.57      0.50      0.53     16454\n",
      "           1       0.55      0.62      0.58     16453\n",
      "\n",
      "    accuracy                           0.56     32907\n",
      "   macro avg       0.56      0.56      0.56     32907\n",
      "weighted avg       0.56      0.56      0.56     32907\n",
      "\n"
     ]
    }
   ],
   "source": [
    "from sklearn.metrics import classification_report\n",
    "print (classification_report(y_test, pred))"
   ]
  },
  {
   "cell_type": "markdown",
   "id": "1963b987-7d31-4c6b-8e52-3f0c0e6c54b1",
   "metadata": {},
   "source": [
    "### 3. SMOTE"
   ]
  },
  {
   "cell_type": "markdown",
   "id": "83005b59-fcf0-4791-a758-657a14af80ee",
   "metadata": {},
   "source": [
    "- Read about SMOTE <br>\n",
    "https://www.geeksforgeeks.org/ml-handling-imbalanced-data-with-smote-and-near-miss-algorithm-in-python/#:~:text=SMOTE%20(synthetic%20minority%20oversampling%20technique)%20is%20one%20of%20the%20most,instances%20between%20existing%20minority%20instances."
   ]
  },
  {
   "cell_type": "code",
   "execution_count": 81,
   "id": "e9c5586e-3358-459e-a9e8-0042c714add8",
   "metadata": {},
   "outputs": [],
   "source": [
    "X = df_copy.drop('is_claim',axis=1)\n",
    "y = df_copy['is_claim']"
   ]
  },
  {
   "cell_type": "markdown",
   "id": "ebb4f62d-8761-48c2-925a-4bb4a6435179",
   "metadata": {},
   "source": [
    "#### Dependencies"
   ]
  },
  {
   "cell_type": "code",
   "execution_count": 82,
   "id": "e8f55d03-94e8-4b73-b6a2-af2ed3dd3094",
   "metadata": {},
   "outputs": [],
   "source": [
    "from imblearn.over_sampling import SMOTE"
   ]
  },
  {
   "cell_type": "code",
   "execution_count": 144,
   "id": "98c7566b-ed16-4c12-8bff-46e72344cfe3",
   "metadata": {},
   "outputs": [
    {
     "name": "stdout",
     "output_type": "stream",
     "text": [
      "<class 'pandas.core.frame.DataFrame'>\n",
      "RangeIndex: 58592 entries, 0 to 58591\n",
      "Columns: 139 entries, policy_tenure to is_speed_alert_Yes\n",
      "dtypes: float64(3), int64(1), uint8(135)\n",
      "memory usage: 9.3 MB\n"
     ]
    }
   ],
   "source": [
    "# from sklearn.preprocessing import StandardScaler\n",
    "# scaler = StandardScaler()\n",
    "# onehot = OneHotEncoder()\n",
    "# X = scaler.fit_transform(X)\n",
    "X = pd.get_dummies(X)\n",
    "X.info()"
   ]
  },
  {
   "cell_type": "code",
   "execution_count": 145,
   "id": "4b3938d7-e94f-48f4-93a8-a87527bcc817",
   "metadata": {},
   "outputs": [
    {
     "data": {
      "text/html": [
       "<div>\n",
       "<style scoped>\n",
       "    .dataframe tbody tr th:only-of-type {\n",
       "        vertical-align: middle;\n",
       "    }\n",
       "\n",
       "    .dataframe tbody tr th {\n",
       "        vertical-align: top;\n",
       "    }\n",
       "\n",
       "    .dataframe thead th {\n",
       "        text-align: right;\n",
       "    }\n",
       "</style>\n",
       "<table border=\"1\" class=\"dataframe\">\n",
       "  <thead>\n",
       "    <tr style=\"text-align: right;\">\n",
       "      <th></th>\n",
       "      <th>policy_tenure</th>\n",
       "      <th>age_of_car</th>\n",
       "      <th>age_of_policyholder</th>\n",
       "      <th>population_density</th>\n",
       "      <th>area_cluster_C1</th>\n",
       "      <th>area_cluster_C10</th>\n",
       "      <th>area_cluster_C11</th>\n",
       "      <th>area_cluster_C12</th>\n",
       "      <th>area_cluster_C13</th>\n",
       "      <th>area_cluster_C14</th>\n",
       "      <th>...</th>\n",
       "      <th>is_power_steering_No</th>\n",
       "      <th>is_power_steering_Yes</th>\n",
       "      <th>is_driver_seat_height_adjustable_No</th>\n",
       "      <th>is_driver_seat_height_adjustable_Yes</th>\n",
       "      <th>is_day_night_rear_view_mirror_No</th>\n",
       "      <th>is_day_night_rear_view_mirror_Yes</th>\n",
       "      <th>is_ecw_No</th>\n",
       "      <th>is_ecw_Yes</th>\n",
       "      <th>is_speed_alert_No</th>\n",
       "      <th>is_speed_alert_Yes</th>\n",
       "    </tr>\n",
       "  </thead>\n",
       "  <tbody>\n",
       "    <tr>\n",
       "      <th>0</th>\n",
       "      <td>0.515874</td>\n",
       "      <td>0.05</td>\n",
       "      <td>0.644231</td>\n",
       "      <td>4990</td>\n",
       "      <td>1</td>\n",
       "      <td>0</td>\n",
       "      <td>0</td>\n",
       "      <td>0</td>\n",
       "      <td>0</td>\n",
       "      <td>0</td>\n",
       "      <td>...</td>\n",
       "      <td>0</td>\n",
       "      <td>1</td>\n",
       "      <td>1</td>\n",
       "      <td>0</td>\n",
       "      <td>1</td>\n",
       "      <td>0</td>\n",
       "      <td>1</td>\n",
       "      <td>0</td>\n",
       "      <td>0</td>\n",
       "      <td>1</td>\n",
       "    </tr>\n",
       "    <tr>\n",
       "      <th>1</th>\n",
       "      <td>0.672619</td>\n",
       "      <td>0.02</td>\n",
       "      <td>0.375000</td>\n",
       "      <td>27003</td>\n",
       "      <td>0</td>\n",
       "      <td>0</td>\n",
       "      <td>0</td>\n",
       "      <td>0</td>\n",
       "      <td>0</td>\n",
       "      <td>0</td>\n",
       "      <td>...</td>\n",
       "      <td>0</td>\n",
       "      <td>1</td>\n",
       "      <td>1</td>\n",
       "      <td>0</td>\n",
       "      <td>1</td>\n",
       "      <td>0</td>\n",
       "      <td>1</td>\n",
       "      <td>0</td>\n",
       "      <td>0</td>\n",
       "      <td>1</td>\n",
       "    </tr>\n",
       "    <tr>\n",
       "      <th>2</th>\n",
       "      <td>0.841110</td>\n",
       "      <td>0.02</td>\n",
       "      <td>0.384615</td>\n",
       "      <td>4076</td>\n",
       "      <td>0</td>\n",
       "      <td>0</td>\n",
       "      <td>0</td>\n",
       "      <td>0</td>\n",
       "      <td>0</td>\n",
       "      <td>0</td>\n",
       "      <td>...</td>\n",
       "      <td>0</td>\n",
       "      <td>1</td>\n",
       "      <td>1</td>\n",
       "      <td>0</td>\n",
       "      <td>1</td>\n",
       "      <td>0</td>\n",
       "      <td>1</td>\n",
       "      <td>0</td>\n",
       "      <td>0</td>\n",
       "      <td>1</td>\n",
       "    </tr>\n",
       "    <tr>\n",
       "      <th>3</th>\n",
       "      <td>0.900277</td>\n",
       "      <td>0.11</td>\n",
       "      <td>0.432692</td>\n",
       "      <td>21622</td>\n",
       "      <td>0</td>\n",
       "      <td>0</td>\n",
       "      <td>0</td>\n",
       "      <td>0</td>\n",
       "      <td>0</td>\n",
       "      <td>0</td>\n",
       "      <td>...</td>\n",
       "      <td>0</td>\n",
       "      <td>1</td>\n",
       "      <td>0</td>\n",
       "      <td>1</td>\n",
       "      <td>0</td>\n",
       "      <td>1</td>\n",
       "      <td>0</td>\n",
       "      <td>1</td>\n",
       "      <td>0</td>\n",
       "      <td>1</td>\n",
       "    </tr>\n",
       "    <tr>\n",
       "      <th>4</th>\n",
       "      <td>0.596403</td>\n",
       "      <td>0.11</td>\n",
       "      <td>0.634615</td>\n",
       "      <td>34738</td>\n",
       "      <td>0</td>\n",
       "      <td>0</td>\n",
       "      <td>0</td>\n",
       "      <td>0</td>\n",
       "      <td>0</td>\n",
       "      <td>0</td>\n",
       "      <td>...</td>\n",
       "      <td>0</td>\n",
       "      <td>1</td>\n",
       "      <td>1</td>\n",
       "      <td>0</td>\n",
       "      <td>0</td>\n",
       "      <td>1</td>\n",
       "      <td>0</td>\n",
       "      <td>1</td>\n",
       "      <td>0</td>\n",
       "      <td>1</td>\n",
       "    </tr>\n",
       "  </tbody>\n",
       "</table>\n",
       "<p>5 rows × 139 columns</p>\n",
       "</div>"
      ],
      "text/plain": [
       "   policy_tenure  age_of_car  age_of_policyholder  population_density  \\\n",
       "0       0.515874        0.05             0.644231                4990   \n",
       "1       0.672619        0.02             0.375000               27003   \n",
       "2       0.841110        0.02             0.384615                4076   \n",
       "3       0.900277        0.11             0.432692               21622   \n",
       "4       0.596403        0.11             0.634615               34738   \n",
       "\n",
       "   area_cluster_C1  area_cluster_C10  area_cluster_C11  area_cluster_C12  \\\n",
       "0                1                 0                 0                 0   \n",
       "1                0                 0                 0                 0   \n",
       "2                0                 0                 0                 0   \n",
       "3                0                 0                 0                 0   \n",
       "4                0                 0                 0                 0   \n",
       "\n",
       "   area_cluster_C13  area_cluster_C14  ...  is_power_steering_No  \\\n",
       "0                 0                 0  ...                     0   \n",
       "1                 0                 0  ...                     0   \n",
       "2                 0                 0  ...                     0   \n",
       "3                 0                 0  ...                     0   \n",
       "4                 0                 0  ...                     0   \n",
       "\n",
       "   is_power_steering_Yes  is_driver_seat_height_adjustable_No  \\\n",
       "0                      1                                    1   \n",
       "1                      1                                    1   \n",
       "2                      1                                    1   \n",
       "3                      1                                    0   \n",
       "4                      1                                    1   \n",
       "\n",
       "   is_driver_seat_height_adjustable_Yes  is_day_night_rear_view_mirror_No  \\\n",
       "0                                     0                                 1   \n",
       "1                                     0                                 1   \n",
       "2                                     0                                 1   \n",
       "3                                     1                                 0   \n",
       "4                                     0                                 0   \n",
       "\n",
       "   is_day_night_rear_view_mirror_Yes  is_ecw_No  is_ecw_Yes  \\\n",
       "0                                  0          1           0   \n",
       "1                                  0          1           0   \n",
       "2                                  0          1           0   \n",
       "3                                  1          0           1   \n",
       "4                                  1          0           1   \n",
       "\n",
       "   is_speed_alert_No  is_speed_alert_Yes  \n",
       "0                  0                   1  \n",
       "1                  0                   1  \n",
       "2                  0                   1  \n",
       "3                  0                   1  \n",
       "4                  0                   1  \n",
       "\n",
       "[5 rows x 139 columns]"
      ]
     },
     "execution_count": 145,
     "metadata": {},
     "output_type": "execute_result"
    }
   ],
   "source": [
    "X.head()"
   ]
  },
  {
   "cell_type": "code",
   "execution_count": 146,
   "id": "11ba4a15-9cd9-4518-9588-3302dae7db2c",
   "metadata": {},
   "outputs": [
    {
     "data": {
      "text/plain": [
       "0    54844\n",
       "1     3748\n",
       "Name: is_claim, dtype: int64"
      ]
     },
     "execution_count": 146,
     "metadata": {},
     "output_type": "execute_result"
    }
   ],
   "source": [
    "y.value_counts()"
   ]
  },
  {
   "cell_type": "code",
   "execution_count": 147,
   "id": "45838f04-38e0-4987-81f7-c03ca04e3454",
   "metadata": {},
   "outputs": [
    {
     "data": {
      "text/plain": [
       "0    54844\n",
       "1    54844\n",
       "Name: is_claim, dtype: int64"
      ]
     },
     "execution_count": 147,
     "metadata": {},
     "output_type": "execute_result"
    }
   ],
   "source": [
    "from imblearn.over_sampling import SMOTE\n",
    "\n",
    "smote = SMOTE(sampling_strategy='minority')\n",
    "X_sm, y_sm = smote.fit_resample(X, y)\n",
    "\n",
    "y_sm.value_counts()"
   ]
  },
  {
   "cell_type": "code",
   "execution_count": 149,
   "id": "16e75fe1-fe3c-4813-9b6d-c61cdd82bc4b",
   "metadata": {},
   "outputs": [],
   "source": [
    "from sklearn.model_selection import train_test_split\n",
    "x_train,x_test,y_train,y_test = train_test_split(X_sm,y_sm,test_size=0.3,random_state=42, stratify=y_sm)"
   ]
  },
  {
   "cell_type": "code",
   "execution_count": 154,
   "id": "25651f39-c210-4e2b-a941-f580946b6af3",
   "metadata": {},
   "outputs": [
    {
     "data": {
      "text/plain": [
       "(76781, 139)"
      ]
     },
     "execution_count": 154,
     "metadata": {},
     "output_type": "execute_result"
    }
   ],
   "source": [
    "x_train.shape"
   ]
  },
  {
   "cell_type": "code",
   "execution_count": 155,
   "id": "cdaee653-2a0f-457c-ae6e-3f16fa8ecdfd",
   "metadata": {},
   "outputs": [
    {
     "data": {
      "text/plain": [
       "(76781,)"
      ]
     },
     "execution_count": 155,
     "metadata": {},
     "output_type": "execute_result"
    }
   ],
   "source": [
    "y_train.shape"
   ]
  },
  {
   "cell_type": "markdown",
   "id": "00ad5dc2-1627-442b-816c-8dcf3049a534",
   "metadata": {},
   "source": [
    "### Modelling"
   ]
  },
  {
   "cell_type": "code",
   "execution_count": 156,
   "id": "fab1d4d6-5792-4b54-9656-c0f65814541c",
   "metadata": {},
   "outputs": [
    {
     "name": "stdout",
     "output_type": "stream",
     "text": [
      "[[14712  1742]\n",
      " [ 1492 14961]]\n"
     ]
    }
   ],
   "source": [
    "rf = RandomForestClassifier()\n",
    "rf.fit(x_train, y_train)\n",
    "y_pred = rf.predict(x_test)\n",
    "\n",
    "from sklearn.metrics import confusion_matrix\n",
    "print (confusion_matrix(y_test, y_pred))"
   ]
  },
  {
   "cell_type": "code",
   "execution_count": 157,
   "id": "53e97087-20a7-4f57-b0e3-1fcb3c82b648",
   "metadata": {},
   "outputs": [
    {
     "name": "stdout",
     "output_type": "stream",
     "text": [
      "              precision    recall  f1-score   support\n",
      "\n",
      "           0       0.91      0.89      0.90     16454\n",
      "           1       0.90      0.91      0.90     16453\n",
      "\n",
      "    accuracy                           0.90     32907\n",
      "   macro avg       0.90      0.90      0.90     32907\n",
      "weighted avg       0.90      0.90      0.90     32907\n",
      "\n"
     ]
    }
   ],
   "source": [
    "from sklearn.metrics import classification_report\n",
    "print (classification_report(y_test, y_pred))"
   ]
  },
  {
   "cell_type": "markdown",
   "id": "78467550-d7fc-45a2-b4ae-cc0e57dbee87",
   "metadata": {},
   "source": [
    "### SMOTE Gave the best results so far"
   ]
  },
  {
   "cell_type": "code",
   "execution_count": null,
   "id": "c4e42d33-e153-4876-9c6e-308a240fa43e",
   "metadata": {},
   "outputs": [],
   "source": []
  },
  {
   "cell_type": "markdown",
   "id": "b08c04d6-69c7-4d40-b7a8-4bd9879b9393",
   "metadata": {},
   "source": [
    "## 4. Use of Ensemble with undersampling"
   ]
  },
  {
   "cell_type": "code",
   "execution_count": 117,
   "id": "691b444b-c625-4cad-9039-721f9b13e4b2",
   "metadata": {},
   "outputs": [],
   "source": [
    "X = df_copy.drop('is_claim',axis=1)\n",
    "y = df_copy['is_claim']"
   ]
  },
  {
   "cell_type": "code",
   "execution_count": 119,
   "id": "f8157c9f-6675-4491-aeb5-6de056b8e53b",
   "metadata": {},
   "outputs": [],
   "source": [
    "from sklearn.model_selection import train_test_split\n",
    "X_train, X_test, y_train, y_test = train_test_split(X, y, test_size=0.2, random_state=15, stratify=y)"
   ]
  },
  {
   "cell_type": "code",
   "execution_count": 120,
   "id": "b7e31579-41ae-47c4-950b-aba834d14559",
   "metadata": {},
   "outputs": [
    {
     "data": {
      "text/plain": [
       "0    43875\n",
       "1     2998\n",
       "Name: is_claim, dtype: int64"
      ]
     },
     "execution_count": 120,
     "metadata": {},
     "output_type": "execute_result"
    }
   ],
   "source": [
    "y_train.value_counts()"
   ]
  },
  {
   "cell_type": "markdown",
   "id": "7057cefd-6011-4728-8c03-de416405fd53",
   "metadata": {},
   "source": [
    "#### Methodology"
   ]
  },
  {
   "cell_type": "markdown",
   "id": "c4942bc2-e965-4264-a0ba-bc0de34176e9",
   "metadata": {},
   "source": [
    "- Now we divide the majority class data into smaller units in multiple of minority class data\n",
    "that is  <br>\n",
    "dataset(2998 records of class 0) * 10 such datasets\n",
    "\n",
    "- Then we make 10 Models \n",
    "- On the basis of these 10 models we give final prediction by voting"
   ]
  },
  {
   "cell_type": "code",
   "execution_count": 121,
   "id": "0a2536b6-4120-4a5c-8f61-186c2987de48",
   "metadata": {},
   "outputs": [],
   "source": [
    "df3 = X_train.copy()\n",
    "df3['is_claim'] = y_train"
   ]
  },
  {
   "cell_type": "code",
   "execution_count": 122,
   "id": "f5836ab2-15d2-41a5-ab2f-85f663937b5c",
   "metadata": {},
   "outputs": [
    {
     "data": {
      "text/html": [
       "<div>\n",
       "<style scoped>\n",
       "    .dataframe tbody tr th:only-of-type {\n",
       "        vertical-align: middle;\n",
       "    }\n",
       "\n",
       "    .dataframe tbody tr th {\n",
       "        vertical-align: top;\n",
       "    }\n",
       "\n",
       "    .dataframe thead th {\n",
       "        text-align: right;\n",
       "    }\n",
       "</style>\n",
       "<table border=\"1\" class=\"dataframe\">\n",
       "  <thead>\n",
       "    <tr style=\"text-align: right;\">\n",
       "      <th></th>\n",
       "      <th>policy_tenure</th>\n",
       "      <th>age_of_car</th>\n",
       "      <th>age_of_policyholder</th>\n",
       "      <th>area_cluster</th>\n",
       "      <th>population_density</th>\n",
       "      <th>segment</th>\n",
       "      <th>model</th>\n",
       "      <th>fuel_type</th>\n",
       "      <th>max_torque</th>\n",
       "      <th>max_power</th>\n",
       "      <th>...</th>\n",
       "      <th>is_rear_window_defogger</th>\n",
       "      <th>is_brake_assist</th>\n",
       "      <th>is_power_door_locks</th>\n",
       "      <th>is_central_locking</th>\n",
       "      <th>is_power_steering</th>\n",
       "      <th>is_driver_seat_height_adjustable</th>\n",
       "      <th>is_day_night_rear_view_mirror</th>\n",
       "      <th>is_ecw</th>\n",
       "      <th>is_speed_alert</th>\n",
       "      <th>is_claim</th>\n",
       "    </tr>\n",
       "  </thead>\n",
       "  <tbody>\n",
       "    <tr>\n",
       "      <th>14804</th>\n",
       "      <td>0.030762</td>\n",
       "      <td>0.02</td>\n",
       "      <td>0.442308</td>\n",
       "      <td>C10</td>\n",
       "      <td>73430</td>\n",
       "      <td>C1</td>\n",
       "      <td>M9</td>\n",
       "      <td>Diesel</td>\n",
       "      <td>200Nm@1750rpm</td>\n",
       "      <td>97.89bhp@3600rpm</td>\n",
       "      <td>...</td>\n",
       "      <td>Yes</td>\n",
       "      <td>No</td>\n",
       "      <td>Yes</td>\n",
       "      <td>Yes</td>\n",
       "      <td>Yes</td>\n",
       "      <td>Yes</td>\n",
       "      <td>Yes</td>\n",
       "      <td>Yes</td>\n",
       "      <td>Yes</td>\n",
       "      <td>0</td>\n",
       "    </tr>\n",
       "    <tr>\n",
       "      <th>30685</th>\n",
       "      <td>1.178656</td>\n",
       "      <td>0.04</td>\n",
       "      <td>0.509615</td>\n",
       "      <td>C8</td>\n",
       "      <td>8794</td>\n",
       "      <td>C2</td>\n",
       "      <td>M4</td>\n",
       "      <td>Diesel</td>\n",
       "      <td>250Nm@2750rpm</td>\n",
       "      <td>113.45bhp@4000rpm</td>\n",
       "      <td>...</td>\n",
       "      <td>Yes</td>\n",
       "      <td>Yes</td>\n",
       "      <td>Yes</td>\n",
       "      <td>Yes</td>\n",
       "      <td>Yes</td>\n",
       "      <td>Yes</td>\n",
       "      <td>No</td>\n",
       "      <td>Yes</td>\n",
       "      <td>Yes</td>\n",
       "      <td>0</td>\n",
       "    </tr>\n",
       "    <tr>\n",
       "      <th>9318</th>\n",
       "      <td>1.181232</td>\n",
       "      <td>0.16</td>\n",
       "      <td>0.326923</td>\n",
       "      <td>C8</td>\n",
       "      <td>8794</td>\n",
       "      <td>C2</td>\n",
       "      <td>M4</td>\n",
       "      <td>Diesel</td>\n",
       "      <td>250Nm@2750rpm</td>\n",
       "      <td>113.45bhp@4000rpm</td>\n",
       "      <td>...</td>\n",
       "      <td>Yes</td>\n",
       "      <td>Yes</td>\n",
       "      <td>Yes</td>\n",
       "      <td>Yes</td>\n",
       "      <td>Yes</td>\n",
       "      <td>Yes</td>\n",
       "      <td>No</td>\n",
       "      <td>Yes</td>\n",
       "      <td>Yes</td>\n",
       "      <td>0</td>\n",
       "    </tr>\n",
       "    <tr>\n",
       "      <th>42670</th>\n",
       "      <td>0.659098</td>\n",
       "      <td>0.08</td>\n",
       "      <td>0.346154</td>\n",
       "      <td>C3</td>\n",
       "      <td>4076</td>\n",
       "      <td>C2</td>\n",
       "      <td>M4</td>\n",
       "      <td>Diesel</td>\n",
       "      <td>250Nm@2750rpm</td>\n",
       "      <td>113.45bhp@4000rpm</td>\n",
       "      <td>...</td>\n",
       "      <td>Yes</td>\n",
       "      <td>Yes</td>\n",
       "      <td>Yes</td>\n",
       "      <td>Yes</td>\n",
       "      <td>Yes</td>\n",
       "      <td>Yes</td>\n",
       "      <td>No</td>\n",
       "      <td>Yes</td>\n",
       "      <td>Yes</td>\n",
       "      <td>1</td>\n",
       "    </tr>\n",
       "    <tr>\n",
       "      <th>24639</th>\n",
       "      <td>1.145952</td>\n",
       "      <td>0.14</td>\n",
       "      <td>0.461538</td>\n",
       "      <td>C2</td>\n",
       "      <td>27003</td>\n",
       "      <td>B2</td>\n",
       "      <td>M6</td>\n",
       "      <td>Petrol</td>\n",
       "      <td>113Nm@4400rpm</td>\n",
       "      <td>88.50bhp@6000rpm</td>\n",
       "      <td>...</td>\n",
       "      <td>No</td>\n",
       "      <td>Yes</td>\n",
       "      <td>Yes</td>\n",
       "      <td>Yes</td>\n",
       "      <td>Yes</td>\n",
       "      <td>Yes</td>\n",
       "      <td>Yes</td>\n",
       "      <td>Yes</td>\n",
       "      <td>Yes</td>\n",
       "      <td>1</td>\n",
       "    </tr>\n",
       "  </tbody>\n",
       "</table>\n",
       "<p>5 rows × 35 columns</p>\n",
       "</div>"
      ],
      "text/plain": [
       "       policy_tenure  age_of_car  age_of_policyholder area_cluster  \\\n",
       "14804       0.030762        0.02             0.442308          C10   \n",
       "30685       1.178656        0.04             0.509615           C8   \n",
       "9318        1.181232        0.16             0.326923           C8   \n",
       "42670       0.659098        0.08             0.346154           C3   \n",
       "24639       1.145952        0.14             0.461538           C2   \n",
       "\n",
       "       population_density segment model fuel_type     max_torque  \\\n",
       "14804               73430      C1    M9    Diesel  200Nm@1750rpm   \n",
       "30685                8794      C2    M4    Diesel  250Nm@2750rpm   \n",
       "9318                 8794      C2    M4    Diesel  250Nm@2750rpm   \n",
       "42670                4076      C2    M4    Diesel  250Nm@2750rpm   \n",
       "24639               27003      B2    M6    Petrol  113Nm@4400rpm   \n",
       "\n",
       "               max_power  ... is_rear_window_defogger is_brake_assist  \\\n",
       "14804   97.89bhp@3600rpm  ...                     Yes              No   \n",
       "30685  113.45bhp@4000rpm  ...                     Yes             Yes   \n",
       "9318   113.45bhp@4000rpm  ...                     Yes             Yes   \n",
       "42670  113.45bhp@4000rpm  ...                     Yes             Yes   \n",
       "24639   88.50bhp@6000rpm  ...                      No             Yes   \n",
       "\n",
       "      is_power_door_locks is_central_locking is_power_steering  \\\n",
       "14804                 Yes                Yes               Yes   \n",
       "30685                 Yes                Yes               Yes   \n",
       "9318                  Yes                Yes               Yes   \n",
       "42670                 Yes                Yes               Yes   \n",
       "24639                 Yes                Yes               Yes   \n",
       "\n",
       "      is_driver_seat_height_adjustable is_day_night_rear_view_mirror is_ecw  \\\n",
       "14804                              Yes                           Yes    Yes   \n",
       "30685                              Yes                            No    Yes   \n",
       "9318                               Yes                            No    Yes   \n",
       "42670                              Yes                            No    Yes   \n",
       "24639                              Yes                           Yes    Yes   \n",
       "\n",
       "      is_speed_alert is_claim  \n",
       "14804            Yes        0  \n",
       "30685            Yes        0  \n",
       "9318             Yes        0  \n",
       "42670            Yes        1  \n",
       "24639            Yes        1  \n",
       "\n",
       "[5 rows x 35 columns]"
      ]
     },
     "execution_count": 122,
     "metadata": {},
     "output_type": "execute_result"
    }
   ],
   "source": [
    "df3.head()"
   ]
  },
  {
   "cell_type": "code",
   "execution_count": 123,
   "id": "81d7cd18-6121-4a1e-88d1-854f7d6a8fd0",
   "metadata": {},
   "outputs": [],
   "source": [
    "df3_class0 = df3[df3.is_claim==0]\n",
    "df3_class1 = df3[df3.is_claim==1]"
   ]
  },
  {
   "cell_type": "code",
   "execution_count": 124,
   "id": "90104f4f-0585-4543-adf7-27a7ba131073",
   "metadata": {},
   "outputs": [],
   "source": [
    "#Function to create 10 desired datasets\n",
    "def get_train_batch(df_majority, df_minority, start, end):\n",
    "    df_train = pd.concat([df_majority[start:end], df_minority], axis=0)\n",
    "\n",
    "    X_train = df_train.drop('is_claim', axis='columns')\n",
    "    y_train = df_train.is_claim\n",
    "    return X_train, y_train "
   ]
  },
  {
   "cell_type": "markdown",
   "id": "933d17a1-b50a-44be-a66a-b69718fbbff6",
   "metadata": {},
   "source": [
    "### Model-1"
   ]
  },
  {
   "cell_type": "code",
   "execution_count": 125,
   "id": "acd7ace5-784b-431c-986b-021a54dd379d",
   "metadata": {},
   "outputs": [],
   "source": [
    "X_train, y_train = get_train_batch(df3_class0, df3_class1, 0, 2998)\n",
    "ml_pipeline.fit(X_train, y_train)\n",
    "y_pred1 = ml_pipeline.predict(X_test)"
   ]
  },
  {
   "cell_type": "code",
   "execution_count": 126,
   "id": "d8123c65-95a2-4c9f-8bdd-1f8cbd02ba68",
   "metadata": {},
   "outputs": [
    {
     "name": "stdout",
     "output_type": "stream",
     "text": [
      "[[6149 4820]\n",
      " [ 387  363]]\n"
     ]
    }
   ],
   "source": [
    "from sklearn.metrics import confusion_matrix\n",
    "print (confusion_matrix(y_test, y_pred1))"
   ]
  },
  {
   "cell_type": "markdown",
   "id": "78f89a67-4e15-4d79-a72b-d87fa9c93df6",
   "metadata": {},
   "source": [
    "### Model-2"
   ]
  },
  {
   "cell_type": "code",
   "execution_count": 127,
   "id": "f312d6be-7ab4-4116-acf9-4eae06f6c141",
   "metadata": {},
   "outputs": [
    {
     "name": "stdout",
     "output_type": "stream",
     "text": [
      "[[4791 6178]\n",
      " [ 292  458]]\n"
     ]
    }
   ],
   "source": [
    "X_train, y_train = get_train_batch(df3_class0, df3_class1, 2998, 5996)\n",
    "ml_pipeline.fit(X_train, y_train)\n",
    "y_pred2 = ml_pipeline.predict(X_test)\n",
    "\n",
    "from sklearn.metrics import confusion_matrix\n",
    "print (confusion_matrix(y_test, y_pred2))"
   ]
  },
  {
   "cell_type": "markdown",
   "id": "9228a785-1ea4-4023-a693-620c6e2d8fc6",
   "metadata": {},
   "source": [
    "### Model-3"
   ]
  },
  {
   "cell_type": "code",
   "execution_count": 128,
   "id": "e60355d1-1733-48e1-96cc-55c388801dfb",
   "metadata": {},
   "outputs": [
    {
     "name": "stdout",
     "output_type": "stream",
     "text": [
      "[[5804 5165]\n",
      " [ 348  402]]\n"
     ]
    }
   ],
   "source": [
    "X_train, y_train = get_train_batch(df3_class0, df3_class1, 5996, 8994)\n",
    "ml_pipeline.fit(X_train, y_train)\n",
    "y_pred3 = ml_pipeline.predict(X_test)\n",
    "\n",
    "from sklearn.metrics import confusion_matrix\n",
    "print (confusion_matrix(y_test, y_pred3))"
   ]
  },
  {
   "cell_type": "markdown",
   "id": "294e5775-d9a7-4ae1-badc-d85b7db4bd11",
   "metadata": {},
   "source": [
    "### Model-4"
   ]
  },
  {
   "cell_type": "code",
   "execution_count": 129,
   "id": "190db331-7529-4582-933b-ad5ded6dd691",
   "metadata": {},
   "outputs": [
    {
     "name": "stdout",
     "output_type": "stream",
     "text": [
      "[[4290 6679]\n",
      " [ 265  485]]\n"
     ]
    }
   ],
   "source": [
    "X_train, y_train = get_train_batch(df3_class0, df3_class1, 8994, 11992)\n",
    "ml_pipeline.fit(X_train, y_train)\n",
    "y_pred4 = ml_pipeline.predict(X_test)\n",
    "from sklearn.metrics import confusion_matrix\n",
    "print (confusion_matrix(y_test, y_pred4))"
   ]
  },
  {
   "cell_type": "markdown",
   "id": "69ca3b67-09ff-4e22-b47c-d81791c2f6fa",
   "metadata": {},
   "source": [
    "### Model-5"
   ]
  },
  {
   "cell_type": "code",
   "execution_count": 130,
   "id": "264dcfba-0571-4c78-9717-fbbc1582a52c",
   "metadata": {},
   "outputs": [
    {
     "name": "stdout",
     "output_type": "stream",
     "text": [
      "[[4814 6155]\n",
      " [ 291  459]]\n"
     ]
    }
   ],
   "source": [
    "X_train, y_train = get_train_batch(df3_class0, df3_class1, 11992, 14990)\n",
    "ml_pipeline.fit(X_train, y_train)\n",
    "y_pred5 = ml_pipeline.predict(X_test)\n",
    "\n",
    "from sklearn.metrics import confusion_matrix\n",
    "print (confusion_matrix(y_test, y_pred5))"
   ]
  },
  {
   "cell_type": "markdown",
   "id": "01dd81ee-7f98-4ca2-b2e7-ccb8cf2014e8",
   "metadata": {},
   "source": [
    "### Model-6"
   ]
  },
  {
   "cell_type": "code",
   "execution_count": 131,
   "id": "735364a0-5b5c-4ae6-9317-05b866330415",
   "metadata": {},
   "outputs": [
    {
     "name": "stdout",
     "output_type": "stream",
     "text": [
      "[[4818 6151]\n",
      " [ 289  461]]\n"
     ]
    }
   ],
   "source": [
    "X_train, y_train = get_train_batch(df3_class0, df3_class1, 14990, 17988)\n",
    "ml_pipeline.fit(X_train, y_train)\n",
    "y_pred6 = ml_pipeline.predict(X_test)\n",
    "\n",
    "from sklearn.metrics import confusion_matrix\n",
    "print (confusion_matrix(y_test, y_pred6))"
   ]
  },
  {
   "cell_type": "markdown",
   "id": "8416ed94-a539-4348-b0aa-564aa83aff3c",
   "metadata": {},
   "source": [
    "### Model-7"
   ]
  },
  {
   "cell_type": "code",
   "execution_count": 132,
   "id": "3f7fcdee-2c75-47e1-9ca1-ba07e63e94f3",
   "metadata": {},
   "outputs": [
    {
     "name": "stdout",
     "output_type": "stream",
     "text": [
      "[[5006 5963]\n",
      " [ 324  426]]\n"
     ]
    }
   ],
   "source": [
    "X_train, y_train = get_train_batch(df3_class0, df3_class1, 17988, 20986)\n",
    "ml_pipeline.fit(X_train, y_train)\n",
    "y_pred7 = ml_pipeline.predict(X_test)\n",
    "\n",
    "from sklearn.metrics import confusion_matrix\n",
    "print (confusion_matrix(y_test, y_pred7))"
   ]
  },
  {
   "cell_type": "markdown",
   "id": "47dc5cb8-f7ef-4e46-9bb0-6036d7c34140",
   "metadata": {},
   "source": [
    "### Model-8"
   ]
  },
  {
   "cell_type": "code",
   "execution_count": 133,
   "id": "aae2b2f5-6968-4752-873b-b6ab182de357",
   "metadata": {},
   "outputs": [
    {
     "name": "stdout",
     "output_type": "stream",
     "text": [
      "[[4539 6430]\n",
      " [ 263  487]]\n"
     ]
    }
   ],
   "source": [
    "X_train, y_train = get_train_batch(df3_class0, df3_class1, 20986, 23984)\n",
    "ml_pipeline.fit(X_train, y_train)\n",
    "y_pred8 = ml_pipeline.predict(X_test)\n",
    "\n",
    "from sklearn.metrics import confusion_matrix\n",
    "print (confusion_matrix(y_test, y_pred8))"
   ]
  },
  {
   "cell_type": "markdown",
   "id": "7086012b-39bb-4a41-9a2d-f1b497116bf4",
   "metadata": {},
   "source": [
    "### Model-9"
   ]
  },
  {
   "cell_type": "code",
   "execution_count": 134,
   "id": "37e9f487-63eb-4eb7-9949-872ddb66b968",
   "metadata": {},
   "outputs": [
    {
     "name": "stdout",
     "output_type": "stream",
     "text": [
      "[[4060 6909]\n",
      " [ 276  474]]\n"
     ]
    }
   ],
   "source": [
    "X_train, y_train = get_train_batch(df3_class0, df3_class1, 23984, 26982)\n",
    "ml_pipeline.fit(X_train, y_train)\n",
    "y_pred9 = ml_pipeline.predict(X_test)\n",
    "\n",
    "from sklearn.metrics import confusion_matrix\n",
    "print (confusion_matrix(y_test, y_pred9))"
   ]
  },
  {
   "cell_type": "markdown",
   "id": "9b5d6444-40a5-43e8-87d8-0e804f33d807",
   "metadata": {},
   "source": [
    "### Model-10"
   ]
  },
  {
   "cell_type": "code",
   "execution_count": 135,
   "id": "d12632a9-c231-4d6a-acbe-7a7125b37ce9",
   "metadata": {},
   "outputs": [
    {
     "name": "stdout",
     "output_type": "stream",
     "text": [
      "[[5239 5730]\n",
      " [ 339  411]]\n"
     ]
    }
   ],
   "source": [
    "X_train, y_train = get_train_batch(df3_class0, df3_class1, 26982, 29980)\n",
    "ml_pipeline.fit(X_train, y_train)\n",
    "y_pred10 = ml_pipeline.predict(X_test)\n",
    "\n",
    "from sklearn.metrics import confusion_matrix\n",
    "print (confusion_matrix(y_test, y_pred10))"
   ]
  },
  {
   "cell_type": "markdown",
   "id": "c42a9f22-c2ce-4fed-b66d-e254db6be5ce",
   "metadata": {},
   "source": [
    "### Final Prediction based on voting"
   ]
  },
  {
   "cell_type": "code",
   "execution_count": 136,
   "id": "20a48da4-ff99-46e1-94ad-df73fed667fc",
   "metadata": {},
   "outputs": [],
   "source": [
    "y_pred_final = y_pred1.copy()\n",
    "for i in range(len(y_pred1)):\n",
    "    n_ones = y_pred1[i] + y_pred2[i] + y_pred3[i] + y_pred4[i] + y_pred5[i] + y_pred6[i] + y_pred7[i] + y_pred8[i] + y_pred9[i] + y_pred10[i]\n",
    "    if n_ones>5:\n",
    "        y_pred_final[i] = 1\n",
    "    else:\n",
    "        y_pred_final[i] = 0"
   ]
  },
  {
   "cell_type": "markdown",
   "id": "1c90d48d-cdd3-4a71-8262-5f234bb85f2d",
   "metadata": {},
   "source": [
    "### Evaluation"
   ]
  },
  {
   "cell_type": "code",
   "execution_count": 139,
   "id": "48b43aaf-be41-48d8-a2e2-ecbfd30431e8",
   "metadata": {},
   "outputs": [
    {
     "name": "stdout",
     "output_type": "stream",
     "text": [
      "[[5906 5063]\n",
      " [ 356  394]]\n"
     ]
    }
   ],
   "source": [
    "print (confusion_matrix(y_test, y_pred_final))"
   ]
  },
  {
   "cell_type": "code",
   "execution_count": 138,
   "id": "90954cfa-cca1-49e7-b9a4-1f73975ae5cc",
   "metadata": {},
   "outputs": [
    {
     "name": "stdout",
     "output_type": "stream",
     "text": [
      "              precision    recall  f1-score   support\n",
      "\n",
      "           0       0.94      0.54      0.69     10969\n",
      "           1       0.07      0.53      0.13       750\n",
      "\n",
      "    accuracy                           0.54     11719\n",
      "   macro avg       0.51      0.53      0.41     11719\n",
      "weighted avg       0.89      0.54      0.65     11719\n",
      "\n"
     ]
    }
   ],
   "source": [
    "from sklearn.metrics import confusion_matrix , classification_report\n",
    "cl_rep = classification_report(y_test, y_pred_final)\n",
    "print(cl_rep)"
   ]
  },
  {
   "cell_type": "markdown",
   "id": "94843c0e-1091-4127-a49a-d95f313ad347",
   "metadata": {},
   "source": [
    "### SMOTE - The Saviour"
   ]
  },
  {
   "cell_type": "markdown",
   "id": "e2540822-9c3f-4075-8e7c-572a7bff03c8",
   "metadata": {},
   "source": [
    "For this particular dataset, SMOTE performed very well.\n",
    "But this may not the case for all the datasets.\n",
    "So keep exploring various ways to handle biased datasets...."
   ]
  },
  {
   "cell_type": "markdown",
   "id": "e17bf3fd-35df-432a-b78b-e72b0ff4803b",
   "metadata": {},
   "source": [
    "# Final Conclusion"
   ]
  },
  {
   "cell_type": "markdown",
   "id": "4c4c566b-1a5f-43de-b257-d365cb1aad6d",
   "metadata": {},
   "source": [
    "Machine Learning is an creative field. Nothing is certain in this field.\n",
    "You have to try different methods and approaches to get optimed solution to problems.\n",
    "Happy Exploring!"
   ]
  },
  {
   "cell_type": "code",
   "execution_count": null,
   "id": "9e84b410-3dc3-4d4a-b124-ce2a460be9a8",
   "metadata": {},
   "outputs": [],
   "source": []
  }
 ],
 "metadata": {
  "kernelspec": {
   "display_name": "Python 3 (ipykernel)",
   "language": "python",
   "name": "python3"
  },
  "language_info": {
   "codemirror_mode": {
    "name": "ipython",
    "version": 3
   },
   "file_extension": ".py",
   "mimetype": "text/x-python",
   "name": "python",
   "nbconvert_exporter": "python",
   "pygments_lexer": "ipython3",
   "version": "3.9.12"
  }
 },
 "nbformat": 4,
 "nbformat_minor": 5
}
